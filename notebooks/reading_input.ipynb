{
 "cells": [
  {
   "cell_type": "code",
   "execution_count": 5,
   "metadata": {
    "ExecuteTime": {
     "end_time": "2021-02-13T06:25:45.323725Z",
     "start_time": "2021-02-13T06:25:45.317044Z"
    }
   },
   "outputs": [],
   "source": [
    "import PyPDF2\n",
    "file = open('./input/1810.04805.pdf', 'rb')\n",
    "fileReader = PyPDF2.PdfFileReader(file)"
   ]
  },
  {
   "cell_type": "code",
   "execution_count": 16,
   "metadata": {
    "ExecuteTime": {
     "end_time": "2021-02-13T06:33:46.791227Z",
     "start_time": "2021-02-13T06:33:46.748742Z"
    }
   },
   "outputs": [
    {
     "name": "stdout",
     "output_type": "stream",
     "text": [
      "wordbasedonlyonitscontext.Unlikeleft-to-\n",
      "rightlanguagemodelpre-training,theMLMob-\n",
      "jectiveenablestherepresentationtofusetheleft\n",
      "andtherightcontext,whichallowsustopre-\n",
      "trainadeepbidirectionalTransformer.Inaddi-\n",
      "tiontothemaskedlanguagemodel,wealsouse\n",
      "aﬁnextsentencepredictionﬂtaskthatjointlypre-\n",
      "trainstext-pairrepresentations.Thecontributions\n",
      "ofourpaperareasfollows:\n",
      "Ł\n",
      "Wedemonstratetheimportanceofbidirectional\n",
      "pre-trainingforlanguagerepresentations.Un-\n",
      "like\n",
      "Radfordetal.\n",
      "(\n",
      "2018\n",
      "),whichusesunidirec-\n",
      "tionallanguagemodelsforpre-training,BERT\n",
      "usesmaskedlanguagemodelstoenablepre-\n",
      "traineddeepbidirectionalrepresentations.This\n",
      "isalsoincontrastto\n",
      "Petersetal.\n",
      "(\n",
      "2018a\n",
      "),which\n",
      "usesashallowconcatenationofindependently\n",
      "trainedleft-to-rightandright-to-leftLMs.\n",
      "Ł\n",
      "Weshowthatpre-trainedrepresentationsreduce\n",
      "theneedformanyheavily-engineeredtask-\n",
      "architectures.BERTisthe\n",
      "tuningbasedrepresentationmodelthatachieves\n",
      "state-of-the-artperformanceonalargesuite\n",
      "ofsentence-level\n",
      "and\n",
      "token-leveltasks,outper-\n",
      "formingmanyarchitectures.\n",
      "Ł\n",
      "BERTadvancesthestateoftheartforeleven\n",
      "NLPtasks.Thecodeandpre-trainedmod-\n",
      "elsareavailableat\n",
      "https://github.com/\n",
      "google-research/bert\n",
      ".\n",
      "2RelatedWork\n",
      "Thereisalonghistoryofpre-traininggenerallan-\n",
      "guagerepresentations,andwereviewthe\n",
      "mostwidely-usedapproachesinthissection.\n",
      "2.1UnsupervisedFeature-basedApproaches\n",
      "Learningwidelyapplicablerepresentationsof\n",
      "wordshasbeenanactiveareaofresearchfor\n",
      "decades,includingnon-neural(\n",
      "Brownetal.\n",
      ",\n",
      "1992\n",
      ";\n",
      "AndoandZhang\n",
      ",\n",
      "2005\n",
      ";\n",
      "Blitzeretal.\n",
      ",\n",
      "2006\n",
      ")and\n",
      "neural(\n",
      "Mikolovetal.\n",
      ",\n",
      "2013\n",
      ";\n",
      "Penningtonetal.\n",
      ",\n",
      "2014\n",
      ")methods.Pre-trainedwordembeddings\n",
      "areanintegralpartofmodernNLPsystems,of-\n",
      "feringimprovementsoverembeddings\n",
      "learnedfromscratch(\n",
      "Turianetal.\n",
      ",\n",
      "2010\n",
      ").Topre-\n",
      "trainwordembeddingvectors,left-to-rightlan-\n",
      "guagemodelingobjectiveshavebeenused(\n",
      "Mnih\n",
      "andHinton\n",
      ",\n",
      "2009\n",
      "),aswellasobjectivestodis-\n",
      "criminatecorrectfromincorrectwordsinleftand\n",
      "rightcontext(\n",
      "Mikolovetal.\n",
      ",\n",
      "2013\n",
      ").\n",
      "Theseapproacheshavebeengeneralizedto\n",
      "coarsergranularities,suchassentenceembed-\n",
      "dings(\n",
      "Kirosetal.\n",
      ",\n",
      "2015\n",
      ";\n",
      "LogeswaranandLee\n",
      ",\n",
      "2018\n",
      ")orparagraphembeddings(\n",
      "LeandMikolov\n",
      ",\n",
      "2014\n",
      ").Totrainsentencerepresentations,prior\n",
      "workhasusedobjectivestorankcandidatenext\n",
      "sentences(\n",
      "Jerniteetal.\n",
      ",\n",
      "2017\n",
      ";\n",
      "Logeswaranand\n",
      "Lee\n",
      ",\n",
      "2018\n",
      "),left-to-rightgenerationofnextsen-\n",
      "tencewordsgivenarepresentationoftheprevious\n",
      "sentence(\n",
      "Kirosetal.\n",
      ",\n",
      "2015\n",
      "),ordenoisingauto-\n",
      "encoderderivedobjectives(\n",
      "Hilletal.\n",
      ",\n",
      "2016\n",
      ").\n",
      "ELMoanditspredecessor(\n",
      "Petersetal.\n",
      ",\n",
      "2017\n",
      ",\n",
      "2018a\n",
      ")generalizetraditionalwordembeddingre-\n",
      "searchalongadifferentdimension.Theyextract\n",
      "context-sensitive\n",
      "featuresfromaleft-to-rightanda\n",
      "right-to-leftlanguagemodel.Thecontextualrep-\n",
      "resentationofeachtokenistheconcatenationof\n",
      "theleft-to-rightandright-to-leftrepresentations.\n",
      "Whenintegratingcontextualwordembeddings\n",
      "withexistingarchitectures,ELMo\n",
      "advancesthestateoftheartforseveralmajorNLP\n",
      "benchmarks(\n",
      "Petersetal.\n",
      ",\n",
      "2018a\n",
      ")includingques-\n",
      "tionanswering(\n",
      "Rajpurkaretal.\n",
      ",\n",
      "2016\n",
      "),sentiment\n",
      "analysis(\n",
      "Socheretal.\n",
      ",\n",
      "2013\n",
      "),andnamedentity\n",
      "recognition(\n",
      "TjongKimSangandDeMeulder\n",
      ",\n",
      "2003\n",
      ").\n",
      "Melamudetal.\n",
      "(\n",
      "2016\n",
      ")proposedlearning\n",
      "contextualrepresentationsthroughatasktopre-\n",
      "dictasinglewordfrombothleftandrightcontext\n",
      "usingLSTMs.SimilartoELMo,theirmodelis\n",
      "feature-basedandnotdeeplybidirectional.\n",
      "Fedus\n",
      "etal.\n",
      "(\n",
      "2018\n",
      ")showsthattheclozetaskcanbeused\n",
      "toimprovetherobustnessoftextgenerationmod-\n",
      "els.\n",
      "2.2UnsupervisedFine-tuningApproaches\n",
      "Aswiththefeature-basedapproaches,the\n",
      "worksinthisdirectiononlypre-trainedwordem-\n",
      "beddingparametersfromunlabeledtext(\n",
      "Col-\n",
      "lobertandWeston\n",
      ",\n",
      "2008\n",
      ").\n",
      "Morerecently,sentenceordocumentencoders\n",
      "whichproducecontextualtokenrepresentations\n",
      "havebeenpre-trainedfromunlabeledtextand\n",
      "forasuperviseddownstreamtask(\n",
      "Dai\n",
      "andLe\n",
      ",\n",
      "2015\n",
      ";\n",
      "HowardandRuder\n",
      ",\n",
      "2018\n",
      ";\n",
      "Radford\n",
      "etal.\n",
      ",\n",
      "2018\n",
      ").Theadvantageoftheseapproaches\n",
      "isthatfewparametersneedtobelearnedfrom\n",
      "scratch.Atleastpartlyduetothisadvantage,\n",
      "OpenAIGPT(\n",
      "Radfordetal.\n",
      ",\n",
      "2018\n",
      ")achievedpre-\n",
      "viouslystate-of-the-artresultsonmanysentence-\n",
      "leveltasksfromtheGLUEbenchmark(\n",
      "Wang\n",
      "etal.\n",
      ",\n",
      "2018a\n",
      ").Left-to-rightlanguagemodel-\n",
      "\n"
     ]
    }
   ],
   "source": [
    "num_pages = fileReader.getNumPages()\n",
    "page=fileReader.getPage(1)\n",
    "print(page.extractText())"
   ]
  },
  {
   "cell_type": "code",
   "execution_count": null,
   "metadata": {},
   "outputs": [],
   "source": []
  },
  {
   "cell_type": "code",
   "execution_count": null,
   "metadata": {},
   "outputs": [],
   "source": []
  },
  {
   "cell_type": "code",
   "execution_count": 19,
   "metadata": {
    "ExecuteTime": {
     "end_time": "2021-02-13T06:34:20.755759Z",
     "start_time": "2021-02-13T06:34:20.749549Z"
    }
   },
   "outputs": [],
   "source": [
    "import pdfminer"
   ]
  },
  {
   "cell_type": "code",
   "execution_count": 6,
   "metadata": {
    "ExecuteTime": {
     "end_time": "2021-02-13T16:17:44.210590Z",
     "start_time": "2021-02-13T16:17:44.208345Z"
    }
   },
   "outputs": [],
   "source": [
    "import textract"
   ]
  },
  {
   "cell_type": "code",
   "execution_count": 7,
   "metadata": {
    "ExecuteTime": {
     "end_time": "2021-02-13T16:17:45.474921Z",
     "start_time": "2021-02-13T16:17:45.233141Z"
    }
   },
   "outputs": [],
   "source": [
    "text=textract.process('./input/1810.04805.pdf')\n",
    "text=text.decode('utf-8')"
   ]
  },
  {
   "cell_type": "code",
   "execution_count": 8,
   "metadata": {
    "ExecuteTime": {
     "end_time": "2021-02-13T16:17:47.156229Z",
     "start_time": "2021-02-13T16:17:47.152630Z"
    }
   },
   "outputs": [
    {
     "data": {
      "text/plain": [
       "2080"
      ]
     },
     "execution_count": 8,
     "metadata": {},
     "output_type": "execute_result"
    }
   ],
   "source": [
    "sentences=text.split('\\n')\n",
    "len(sentences)"
   ]
  },
  {
   "cell_type": "code",
   "execution_count": 9,
   "metadata": {
    "ExecuteTime": {
     "end_time": "2021-02-13T16:17:49.018770Z",
     "start_time": "2021-02-13T16:17:49.014725Z"
    }
   },
   "outputs": [],
   "source": [
    "f = open('input.txt', 'w')\n",
    "for sent in sentences:\n",
    "    f.write(sent)\n",
    "    f.write('\\n')"
   ]
  },
  {
   "cell_type": "code",
   "execution_count": 10,
   "metadata": {
    "ExecuteTime": {
     "end_time": "2021-02-13T16:17:49.824601Z",
     "start_time": "2021-02-13T16:17:49.818067Z"
    }
   },
   "outputs": [],
   "source": [
    "import pke"
   ]
  },
  {
   "cell_type": "code",
   "execution_count": 12,
   "metadata": {
    "ExecuteTime": {
     "end_time": "2021-02-13T16:18:26.912683Z",
     "start_time": "2021-02-13T16:18:25.725250Z"
    }
   },
   "outputs": [],
   "source": [
    "extractor = pke.unsupervised.TextRank() \n",
    "extractor.load_document(text)"
   ]
  },
  {
   "cell_type": "code",
   "execution_count": 22,
   "metadata": {
    "ExecuteTime": {
     "end_time": "2021-02-13T16:22:08.644469Z",
     "start_time": "2021-02-13T16:22:02.039081Z"
    }
   },
   "outputs": [],
   "source": [
    "# initialize keyphrase extraction model, here TopicRank\n",
    "extractor = pke.unsupervised.TopicRank()\n",
    "\n",
    "# load the content of the document, here document is expected to be in raw\n",
    "# format (i.e. a simple text file) and preprocessing is carried out using spacy\n",
    "extractor.load_document(input='./input.txt', language='en')\n",
    "\n",
    "# # keyphrase candidate selection, in the case of TopicRank: sequences of nouns\n",
    "# # and adjectives (i.e. `(Noun|Adj)*`)\n",
    "extractor.candidate_selection()\n",
    "\n",
    "# # candidate weighting, in the case of TopicRank: using a random walk algorithm\n",
    "extractor.candidate_weighting()\n",
    "\n",
    "# # N-best selection, keyphrases contains the 10 highest scored candidates as\n",
    "# # (keyphrase, score) tuples\n",
    "keyphrases = extractor.get_n_best(n=20)"
   ]
  },
  {
   "cell_type": "code",
   "execution_count": 23,
   "metadata": {
    "ExecuteTime": {
     "end_time": "2021-02-13T16:22:10.233098Z",
     "start_time": "2021-02-13T16:22:10.221176Z"
    }
   },
   "outputs": [
    {
     "data": {
      "text/plain": [
       "[('tasks', 0.018429434941304307),\n",
       " ('bert', 0.017356638258868455),\n",
       " ('bert model', 0.016540633487669872),\n",
       " ('tuning', 0.012180161908287336),\n",
       " ('language understanding', 0.012178815935342802),\n",
       " ('token', 0.011555287782690117),\n",
       " ('sentence', 0.00957154331683779),\n",
       " ('word', 0.00920252881001341),\n",
       " ('representations', 0.00916359811973877),\n",
       " ('fine', 0.007918739294381251),\n",
       " ('left', 0.007779605262318068),\n",
       " ('system', 0.007685989589825798),\n",
       " ('right context', 0.0073820651538004795),\n",
       " ('proceedings', 0.007241404086781807),\n",
       " ('openai', 0.007011939996849523),\n",
       " ('approach', 0.0069133340850153855),\n",
       " ('unidirectional language models', 0.006874324771129039),\n",
       " ('computer vision research', 0.006411014318292201),\n",
       " ('result', 0.006094236103636037),\n",
       " ('pages', 0.006089844727592543)]"
      ]
     },
     "execution_count": 23,
     "metadata": {},
     "output_type": "execute_result"
    }
   ],
   "source": [
    "keyphrases"
   ]
  },
  {
   "cell_type": "code",
   "execution_count": null,
   "metadata": {},
   "outputs": [],
   "source": []
  },
  {
   "cell_type": "code",
   "execution_count": null,
   "metadata": {},
   "outputs": [],
   "source": []
  },
  {
   "cell_type": "code",
   "execution_count": 1,
   "metadata": {
    "ExecuteTime": {
     "end_time": "2021-02-13T16:16:47.978999Z",
     "start_time": "2021-02-13T16:16:47.727251Z"
    }
   },
   "outputs": [
    {
     "data": {
      "text/plain": [
       "'2.3.5'"
      ]
     },
     "execution_count": 1,
     "metadata": {},
     "output_type": "execute_result"
    }
   ],
   "source": [
    "import spacy\n",
    "spacy.__version__"
   ]
  },
  {
   "cell_type": "code",
   "execution_count": 17,
   "metadata": {
    "ExecuteTime": {
     "end_time": "2021-02-13T16:19:48.811388Z",
     "start_time": "2021-02-13T16:19:48.343210Z"
    }
   },
   "outputs": [],
   "source": [
    "import spacy\n",
    "from spacycake import BertKeyphraseExtraction as bake\n",
    "nlp = spacy.load('en')"
   ]
  },
  {
   "cell_type": "code",
   "execution_count": 18,
   "metadata": {
    "ExecuteTime": {
     "end_time": "2021-02-13T16:20:11.237576Z",
     "start_time": "2021-02-13T16:20:08.715933Z"
    }
   },
   "outputs": [],
   "source": [
    "cake = bake(nlp, from_pretrained='bert-base-cased', top_k=3)\n",
    "nlp.add_pipe(cake, last=True)"
   ]
  },
  {
   "cell_type": "code",
   "execution_count": 21,
   "metadata": {
    "ExecuteTime": {
     "end_time": "2021-02-13T16:21:15.233420Z",
     "start_time": "2021-02-13T16:21:13.495644Z"
    }
   },
   "outputs": [
    {
     "ename": "RuntimeError",
     "evalue": "cannot perform reduction function max on tensor with no elements because the operation does not have an identity",
     "output_type": "error",
     "traceback": [
      "\u001b[0;31m---------------------------------------------------------------------------\u001b[0m",
      "\u001b[0;31mRuntimeError\u001b[0m                              Traceback (most recent call last)",
      "\u001b[0;32m<ipython-input-21-49da09ee1ae7>\u001b[0m in \u001b[0;36m<module>\u001b[0;34m\u001b[0m\n\u001b[0;32m----> 1\u001b[0;31m \u001b[0mdoc\u001b[0m \u001b[0;34m=\u001b[0m \u001b[0mnlp\u001b[0m\u001b[0;34m(\u001b[0m\u001b[0;34m\"This is an example sentence. And find An Important\"\u001b[0m\u001b[0;34m)\u001b[0m\u001b[0;34m\u001b[0m\u001b[0;34m\u001b[0m\u001b[0m\n\u001b[0m\u001b[1;32m      2\u001b[0m \u001b[0mprint\u001b[0m\u001b[0;34m(\u001b[0m\u001b[0mdoc\u001b[0m\u001b[0;34m.\u001b[0m\u001b[0m_\u001b[0m\u001b[0;34m.\u001b[0m\u001b[0mextracted_phrases\u001b[0m\u001b[0;34m)\u001b[0m\u001b[0;34m\u001b[0m\u001b[0;34m\u001b[0m\u001b[0m\n",
      "\u001b[0;32m~/Desktop/Projects/projects_env/lib/python3.8/site-packages/spacy/language.py\u001b[0m in \u001b[0;36m__call__\u001b[0;34m(self, text, disable, component_cfg)\u001b[0m\n\u001b[1;32m    443\u001b[0m             \u001b[0;32mif\u001b[0m \u001b[0;32mnot\u001b[0m \u001b[0mhasattr\u001b[0m\u001b[0;34m(\u001b[0m\u001b[0mproc\u001b[0m\u001b[0;34m,\u001b[0m \u001b[0;34m\"__call__\"\u001b[0m\u001b[0;34m)\u001b[0m\u001b[0;34m:\u001b[0m\u001b[0;34m\u001b[0m\u001b[0;34m\u001b[0m\u001b[0m\n\u001b[1;32m    444\u001b[0m                 \u001b[0;32mraise\u001b[0m \u001b[0mValueError\u001b[0m\u001b[0;34m(\u001b[0m\u001b[0mErrors\u001b[0m\u001b[0;34m.\u001b[0m\u001b[0mE003\u001b[0m\u001b[0;34m.\u001b[0m\u001b[0mformat\u001b[0m\u001b[0;34m(\u001b[0m\u001b[0mcomponent\u001b[0m\u001b[0;34m=\u001b[0m\u001b[0mtype\u001b[0m\u001b[0;34m(\u001b[0m\u001b[0mproc\u001b[0m\u001b[0;34m)\u001b[0m\u001b[0;34m,\u001b[0m \u001b[0mname\u001b[0m\u001b[0;34m=\u001b[0m\u001b[0mname\u001b[0m\u001b[0;34m)\u001b[0m\u001b[0;34m)\u001b[0m\u001b[0;34m\u001b[0m\u001b[0;34m\u001b[0m\u001b[0m\n\u001b[0;32m--> 445\u001b[0;31m             \u001b[0mdoc\u001b[0m \u001b[0;34m=\u001b[0m \u001b[0mproc\u001b[0m\u001b[0;34m(\u001b[0m\u001b[0mdoc\u001b[0m\u001b[0;34m,\u001b[0m \u001b[0;34m**\u001b[0m\u001b[0mcomponent_cfg\u001b[0m\u001b[0;34m.\u001b[0m\u001b[0mget\u001b[0m\u001b[0;34m(\u001b[0m\u001b[0mname\u001b[0m\u001b[0;34m,\u001b[0m \u001b[0;34m{\u001b[0m\u001b[0;34m}\u001b[0m\u001b[0;34m)\u001b[0m\u001b[0;34m)\u001b[0m\u001b[0;34m\u001b[0m\u001b[0;34m\u001b[0m\u001b[0m\n\u001b[0m\u001b[1;32m    446\u001b[0m             \u001b[0;32mif\u001b[0m \u001b[0mdoc\u001b[0m \u001b[0;32mis\u001b[0m \u001b[0;32mNone\u001b[0m\u001b[0;34m:\u001b[0m\u001b[0;34m\u001b[0m\u001b[0;34m\u001b[0m\u001b[0m\n\u001b[1;32m    447\u001b[0m                 \u001b[0;32mraise\u001b[0m \u001b[0mValueError\u001b[0m\u001b[0;34m(\u001b[0m\u001b[0mErrors\u001b[0m\u001b[0;34m.\u001b[0m\u001b[0mE005\u001b[0m\u001b[0;34m.\u001b[0m\u001b[0mformat\u001b[0m\u001b[0;34m(\u001b[0m\u001b[0mname\u001b[0m\u001b[0;34m=\u001b[0m\u001b[0mname\u001b[0m\u001b[0;34m)\u001b[0m\u001b[0;34m)\u001b[0m\u001b[0;34m\u001b[0m\u001b[0;34m\u001b[0m\u001b[0m\n",
      "\u001b[0;32m~/Desktop/Projects/projects_env/lib/python3.8/site-packages/spacycake/__init__.py\u001b[0m in \u001b[0;36m__call__\u001b[0;34m(self, doc)\u001b[0m\n\u001b[1;32m    103\u001b[0m         \u001b[0;32mwhile\u001b[0m \u001b[0mlen\u001b[0m\u001b[0;34m(\u001b[0m\u001b[0mR\u001b[0m\u001b[0;34m)\u001b[0m \u001b[0;34m>\u001b[0m \u001b[0;36m0\u001b[0m\u001b[0;34m:\u001b[0m\u001b[0;34m\u001b[0m\u001b[0;34m\u001b[0m\u001b[0m\n\u001b[1;32m    104\u001b[0m             \u001b[0mfirst_part\u001b[0m \u001b[0;34m=\u001b[0m \u001b[0mtorch\u001b[0m\u001b[0;34m.\u001b[0m\u001b[0mmatmul\u001b[0m\u001b[0;34m(\u001b[0m\u001b[0mdoc_embedding\u001b[0m\u001b[0;34m,\u001b[0m \u001b[0mphrases_embeddings\u001b[0m\u001b[0;34m[\u001b[0m\u001b[0mR\u001b[0m\u001b[0;34m]\u001b[0m\u001b[0;34m.\u001b[0m\u001b[0mtranspose\u001b[0m\u001b[0;34m(\u001b[0m\u001b[0;36m0\u001b[0m\u001b[0;34m,\u001b[0m \u001b[0;36m1\u001b[0m\u001b[0;34m)\u001b[0m\u001b[0;34m)\u001b[0m\u001b[0;34m\u001b[0m\u001b[0;34m\u001b[0m\u001b[0m\n\u001b[0;32m--> 105\u001b[0;31m             second_part = torch.matmul(\n\u001b[0m\u001b[1;32m    106\u001b[0m                 \u001b[0mphrases_embeddings\u001b[0m\u001b[0;34m[\u001b[0m\u001b[0mR\u001b[0m\u001b[0;34m]\u001b[0m\u001b[0;34m,\u001b[0m\u001b[0;34m\u001b[0m\u001b[0;34m\u001b[0m\u001b[0m\n\u001b[1;32m    107\u001b[0m                 phrases_embeddings[S].transpose(0, 1)).max(dim=1).values\n",
      "\u001b[0;31mRuntimeError\u001b[0m: cannot perform reduction function max on tensor with no elements because the operation does not have an identity"
     ]
    }
   ],
   "source": [
    "doc = nlp(\"This is an example sentence. And find An Important\")\n",
    "print(doc._.extracted_phrases) "
   ]
  },
  {
   "cell_type": "code",
   "execution_count": null,
   "metadata": {},
   "outputs": [],
   "source": []
  },
  {
   "cell_type": "code",
   "execution_count": null,
   "metadata": {},
   "outputs": [],
   "source": []
  },
  {
   "cell_type": "markdown",
   "metadata": {},
   "source": [
    "## Azure"
   ]
  },
  {
   "cell_type": "code",
   "execution_count": 33,
   "metadata": {
    "ExecuteTime": {
     "end_time": "2021-02-13T16:46:55.313570Z",
     "start_time": "2021-02-13T16:46:53.980208Z"
    }
   },
   "outputs": [
    {
     "name": "stdout",
     "output_type": "stream",
     "text": [
      "Requirement already satisfied: azure-core in /home/hs/.local/lib/python3.8/site-packages (1.12.0b1)\r\n",
      "Requirement already satisfied: six>=1.11.0 in /usr/lib/python3/dist-packages (from azure-core) (1.14.0)\r\n",
      "Requirement already satisfied: requests>=2.18.4 in /usr/lib/python3/dist-packages (from azure-core) (2.22.0)\r\n"
     ]
    }
   ],
   "source": [
    "# !pip3 install azure-ai-textanalytics --pre\n",
    "# !pip3 install azure-core"
   ]
  },
  {
   "cell_type": "code",
   "execution_count": 37,
   "metadata": {
    "ExecuteTime": {
     "end_time": "2021-02-13T16:48:32.308531Z",
     "start_time": "2021-02-13T16:48:32.306355Z"
    }
   },
   "outputs": [],
   "source": [
    "key = \"6e87727fc86b4ac68c9ec8a93cb8621f\"\n",
    "endpoint = \"https://study-buddy.cognitiveservices.azure.com/\""
   ]
  },
  {
   "cell_type": "code",
   "execution_count": 38,
   "metadata": {
    "ExecuteTime": {
     "end_time": "2021-02-13T16:48:33.811554Z",
     "start_time": "2021-02-13T16:48:33.800145Z"
    }
   },
   "outputs": [],
   "source": [
    "from azure.ai.textanalytics import TextAnalyticsClient\n",
    "from azure.core.credentials import AzureKeyCredential\n",
    "\n",
    "def authenticate_client():\n",
    "    ta_credential = AzureKeyCredential(key)\n",
    "    text_analytics_client = TextAnalyticsClient(\n",
    "            endpoint=endpoint, \n",
    "            credential=ta_credential)\n",
    "    return text_analytics_client\n",
    "\n",
    "client = authenticate_client()"
   ]
  },
  {
   "cell_type": "code",
   "execution_count": 39,
   "metadata": {
    "ExecuteTime": {
     "end_time": "2021-02-13T16:49:03.548763Z",
     "start_time": "2021-02-13T16:49:03.527772Z"
    }
   },
   "outputs": [
    {
     "data": {
      "text/plain": [
       "'BERT: Pre-training of Deep Bidirectional Transformers for\\nLanguage Understanding\\nJacob Devlin\\n\\nMing-Wei Chang Kenton Lee Kristina Toutanova\\nGoogle AI Language\\n{jacobdevlin,mingweichang,kentonl,kristout}@google.com\\n\\narXiv:1810.04805v2 [cs.CL] 24 May 2019\\n\\nAbstract\\nWe introduce a new language representation model called BERT, which stands for\\nBidirectional Encoder Representations from\\nTransformers. Unlike recent language representation models (Peters et al., 2018a; Radford et al., 2018), BERT is designed to pretrain deep bidirectional representations from\\nunlabeled text by jointly conditioning on both\\nleft and right context in all layers. As a result, the pre-trained BERT model can be finetuned with just one additional output layer\\nto create state-of-the-art models for a wide\\nrange of tasks, such as question answering and\\nlanguage inference, without substantial taskspecific architecture modifications.\\nBERT is conceptually simple and empirically\\npowerful. It obtains new state-of-the-art results on eleven natural language processing\\ntasks, including pushing the GLUE score to\\n80.5% (7.7% point absolute improvement),\\nMultiNLI accuracy to 86.7% (4.6% absolute\\nimprovement), SQuAD v1.1 question answering Test F1 to 93.2 (1.5 point absolute improvement) and SQuAD v2.0 Test F1 to 83.1\\n(5.1 point absolute improvement).\\n\\n1\\n\\nIntroduction\\n\\nLanguage model pre-training has been shown to\\nbe effective for improving many natural language\\nprocessing tasks (Dai and Le, 2015; Peters et al.,\\n2018a; Radford et al., 2018; Howard and Ruder,\\n2018). These include sentence-level tasks such as\\nnatural language inference (Bowman et al., 2015;\\nWilliams et al., 2018) and paraphrasing (Dolan\\nand Brockett, 2005), which aim to predict the relationships between sentences by analyzing them\\nholistically, as well as token-level tasks such as\\nnamed entity recognition and question answering,\\nwhere models are required to produce fine-grained\\noutput at the token level (Tjong Kim Sang and\\nDe Meulder, 2003; Rajpurkar et al., 2016).\\n\\nThere are two existing strategies for applying pre-trained language representations to downstream tasks: feature-based and fine-tuning. The\\nfeature-based approach, such as ELMo (Peters\\net al., 2018a), uses task-specific architectures that\\ninclude the pre-trained representations as additional features. The fine-tuning approach, such as\\nthe Generative Pre-trained Transformer (OpenAI\\nGPT) (Radford et al., 2018), introduces minimal\\ntask-specific parameters, and is trained on the\\ndownstream tasks by simply fine-tuning all pretrained parameters. The two approaches share the\\nsame objective function during pre-training, where\\nthey use unidirectional language models to learn\\ngeneral language representations.\\nWe argue that current techniques restrict the\\npower of the pre-trained representations, especially for the fine-tuning approaches. The major limitation is that standard language models are\\nunidirectional, and this limits the choice of architectures that can be used during pre-training. For\\nexample, in OpenAI GPT, the authors use a left-toright architecture, where every token can only attend to previous tokens in the self-attention layers\\nof the Transformer (Vaswani et al., 2017). Such restrictions are sub-optimal for sentence-level tasks,\\nand could be very harmful when applying finetuning based approaches to token-level tasks such\\nas question answering, where it is crucial to incorporate context from both directions.\\nIn this paper, we improve the fine-tuning based\\napproaches by proposing BERT: Bidirectional\\nEncoder Representations from Transformers.\\nBERT alleviates the previously mentioned unidirectionality constraint by using a “masked language model” (MLM) pre-training objective, inspired by the Cloze task (Taylor, 1953). The\\nmasked language model randomly masks some of\\nthe tokens from the input, and the objective is to\\npredict the original vocabulary id of the masked\\n\\n\\x0cword based only on its context. Unlike left-toright language model pre-training, the MLM objective enables the representation to fuse the left\\nand the right context, which allows us to pretrain a deep bidirectional Transformer. In addition to the masked language model, we also use\\na “next sentence prediction” task that jointly pretrains text-pair representations. The contributions\\nof our paper are as follows:\\n• We demonstrate the importance of bidirectional\\npre-training for language representations. Unlike Radford et al. (2018), which uses unidirectional language models for pre-training, BERT\\nuses masked language models to enable pretrained deep bidirectional representations. This\\nis also in contrast to Peters et al. (2018a), which\\nuses a shallow concatenation of independently\\ntrained left-to-right and right-to-left LMs.\\n• We show that pre-trained representations reduce\\nthe need for many heavily-engineered taskspecific architectures. BERT is the first finetuning based representation model that achieves\\nstate-of-the-art performance on a large suite\\nof sentence-level and token-level tasks, outperforming many task-specific architectures.\\n• BERT advances the state of the art for eleven\\nNLP tasks. The code and pre-trained models are available at https://github.com/\\ngoogle-research/bert.\\n\\n2\\n\\nRelated Work\\n\\nThere is a long history of pre-training general language representations, and we briefly review the\\nmost widely-used approaches in this section.\\n2.1\\n\\nUnsupervised Feature-based Approaches\\n\\nLearning widely applicable representations of\\nwords has been an active area of research for\\ndecades, including non-neural (Brown et al., 1992;\\nAndo and Zhang, 2005; Blitzer et al., 2006) and\\nneural (Mikolov et al., 2013; Pennington et al.,\\n2014) methods. Pre-trained word embeddings\\nare an integral part of modern NLP systems, offering significant improvements over embeddings\\nlearned from scratch (Turian et al., 2010). To pretrain word embedding vectors, left-to-right language modeling objectives have been used (Mnih\\nand Hinton, 2009), as well as objectives to discriminate correct from incorrect words in left and\\nright context (Mikolov et al., 2013).\\n\\nThese approaches have been generalized to\\ncoarser granularities, such as sentence embeddings (Kiros et al., 2015; Logeswaran and Lee,\\n2018) or paragraph embeddings (Le and Mikolov,\\n2014). To train sentence representations, prior\\nwork has used objectives to rank candidate next\\nsentences (Jernite et al., 2017; Logeswaran and\\nLee, 2018), left-to-right generation of next sentence words given a representation of the previous\\nsentence (Kiros et al., 2015), or denoising autoencoder derived objectives (Hill et al., 2016).\\nELMo and its predecessor (Peters et al., 2017,\\n2018a) generalize traditional word embedding research along a different dimension. They extract\\ncontext-sensitive features from a left-to-right and a\\nright-to-left language model. The contextual representation of each token is the concatenation of\\nthe left-to-right and right-to-left representations.\\nWhen integrating contextual word embeddings\\nwith existing task-specific architectures, ELMo\\nadvances the state of the art for several major NLP\\nbenchmarks (Peters et al., 2018a) including question answering (Rajpurkar et al., 2016), sentiment\\nanalysis (Socher et al., 2013), and named entity\\nrecognition (Tjong Kim Sang and De Meulder,\\n2003). Melamud et al. (2016) proposed learning\\ncontextual representations through a task to predict a single word from both left and right context\\nusing LSTMs. Similar to ELMo, their model is\\nfeature-based and not deeply bidirectional. Fedus\\net al. (2018) shows that the cloze task can be used\\nto improve the robustness of text generation models.\\n2.2\\n\\nUnsupervised Fine-tuning Approaches\\n\\nAs with the feature-based approaches, the first\\nworks in this direction only pre-trained word embedding parameters from unlabeled text (Collobert and Weston, 2008).\\nMore recently, sentence or document encoders\\nwhich produce contextual token representations\\nhave been pre-trained from unlabeled text and\\nfine-tuned for a supervised downstream task (Dai\\nand Le, 2015; Howard and Ruder, 2018; Radford\\net al., 2018). The advantage of these approaches\\nis that few parameters need to be learned from\\nscratch. At least partly due to this advantage,\\nOpenAI GPT (Radford et al., 2018) achieved previously state-of-the-art results on many sentencelevel tasks from the GLUE benchmark (Wang\\net al., 2018a). Left-to-right language model-\\n\\n\\x0cNSP\\n\\nC\\n\\nMask LM\\n\\nT1\\n\\n...\\n\\nMNLI NER\\n\\nMask LM\\n\\nTN\\n\\nT1’\\n\\nT[SEP]\\n\\n...\\n\\nSQuAD\\n\\nC\\n\\nTM’\\n\\nBERT\\n\\nStart/End Span\\nT1\\n\\nTN\\n\\n...\\n\\nBERT\\n\\nT[SEP]\\n\\nT1’\\n\\n...\\n\\nTM’\\n\\nBERT\\n\\nE[CLS]\\n\\nE1\\n\\n...\\n\\nEN\\n\\nE[SEP]\\n\\nE1’\\n\\n...\\n\\nEM’\\n\\nE[CLS]\\n\\nE1\\n\\n...\\n\\nEN\\n\\nE[SEP]\\n\\nE1’\\n\\n...\\n\\nEM’\\n\\n[CLS]\\n\\nTok 1\\n\\n...\\n\\nTok N\\n\\n[SEP]\\n\\nTok 1\\n\\n...\\n\\nTokM\\n\\n[CLS]\\n\\nTok 1\\n\\n...\\n\\nTok N\\n\\n[SEP]\\n\\nTok 1\\n\\n...\\n\\nTokM\\n\\nMasked Sentence A\\n\\nQuestion\\n\\nMasked Sentence B\\n\\nParagraph\\n\\nQuestion Answer Pair\\n\\nUnlabeled Sentence A and B Pair\\n\\nPre-training\\n\\nFine-Tuning\\n\\nFigure 1: Overall pre-training and fine-tuning procedures for BERT. Apart from output layers, the same architectures are used in both pre-training and fine-tuning. The same pre-trained model parameters are used to initialize\\nmodels for different down-stream tasks. During fine-tuning, all parameters are fine-tuned. [CLS] is a special\\nsymbol added in front of every input example, and [SEP] is a special separator token (e.g. separating questions/answers).\\n\\ning and auto-encoder objectives have been used\\nfor pre-training such models (Howard and Ruder,\\n2018; Radford et al., 2018; Dai and Le, 2015).\\n2.3\\n\\nTransfer Learning from Supervised Data\\n\\nThere has also been work showing effective transfer from supervised tasks with large datasets, such\\nas natural language inference (Conneau et al.,\\n2017) and machine translation (McCann et al.,\\n2017). Computer vision research has also demonstrated the importance of transfer learning from\\nlarge pre-trained models, where an effective recipe\\nis to fine-tune models pre-trained with ImageNet (Deng et al., 2009; Yosinski et al., 2014).\\n\\n3\\n\\nBERT\\n\\nWe introduce BERT and its detailed implementation in this section. There are two steps in our\\nframework: pre-training and fine-tuning. During pre-training, the model is trained on unlabeled\\ndata over different pre-training tasks. For finetuning, the BERT model is first initialized with\\nthe pre-trained parameters, and all of the parameters are fine-tuned using labeled data from the\\ndownstream tasks. Each downstream task has separate fine-tuned models, even though they are initialized with the same pre-trained parameters. The\\nquestion-answering example in Figure 1 will serve\\nas a running example for this section.\\nA distinctive feature of BERT is its unified architecture across different tasks. There is mini-\\n\\nmal difference between the pre-trained architecture and the final downstream architecture.\\nModel Architecture BERT’s model architecture is a multi-layer bidirectional Transformer encoder based on the original implementation described in Vaswani et al. (2017) and released in\\nthe tensor2tensor library.1 Because the use\\nof Transformers has become common and our implementation is almost identical to the original,\\nwe will omit an exhaustive background description of the model architecture and refer readers to\\nVaswani et al. (2017) as well as excellent guides\\nsuch as “The Annotated Transformer.”2\\nIn this work, we denote the number of layers\\n(i.e., Transformer blocks) as L, the hidden size as\\nH, and the number of self-attention heads as A.3\\nWe primarily report results on two model sizes:\\nBERTBASE (L=12, H=768, A=12, Total Parameters=110M) and BERTLARGE (L=24, H=1024,\\nA=16, Total Parameters=340M).\\nBERTBASE was chosen to have the same model\\nsize as OpenAI GPT for comparison purposes.\\nCritically, however, the BERT Transformer uses\\nbidirectional self-attention, while the GPT Transformer uses constrained self-attention where every\\ntoken can only attend to context to its left.4\\n1\\n\\nhttps://github.com/tensorflow/tensor2tensor\\nhttp://nlp.seas.harvard.edu/2018/04/03/attention.html\\n3\\nIn all cases we set the feed-forward/filter size to be 4H,\\ni.e., 3072 for the H = 768 and 4096 for the H = 1024.\\n4\\nWe note that in the literature the bidirectional Trans2\\n\\n\\x0cInput/Output Representations To make BERT\\nhandle a variety of down-stream tasks, our input\\nrepresentation is able to unambiguously represent\\nboth a single sentence and a pair of sentences\\n(e.g., h Question, Answer i) in one token sequence.\\nThroughout this work, a “sentence” can be an arbitrary span of contiguous text, rather than an actual\\nlinguistic sentence. A “sequence” refers to the input token sequence to BERT, which may be a single sentence or two sentences packed together.\\nWe use WordPiece embeddings (Wu et al.,\\n2016) with a 30,000 token vocabulary. The first\\ntoken of every sequence is always a special classification token ([CLS]). The final hidden state\\ncorresponding to this token is used as the aggregate sequence representation for classification\\ntasks. Sentence pairs are packed together into a\\nsingle sequence. We differentiate the sentences in\\ntwo ways. First, we separate them with a special\\ntoken ([SEP]). Second, we add a learned embedding to every token indicating whether it belongs\\nto sentence A or sentence B. As shown in Figure 1,\\nwe denote input embedding as E, the final hidden\\nvector of the special [CLS] token as C ∈ RH ,\\nand the final hidden vector for the ith input token\\nas Ti ∈ RH .\\nFor a given token, its input representation is\\nconstructed by summing the corresponding token,\\nsegment, and position embeddings. A visualization of this construction can be seen in Figure 2.\\n3.1\\n\\nPre-training BERT\\n\\nUnlike Peters et al. (2018a) and Radford et al.\\n(2018), we do not use traditional left-to-right or\\nright-to-left language models to pre-train BERT.\\nInstead, we pre-train BERT using two unsupervised tasks, described in this section. This step\\nis presented in the left part of Figure 1.\\nTask #1: Masked LM Intuitively, it is reasonable to believe that a deep bidirectional model is\\nstrictly more powerful than either a left-to-right\\nmodel or the shallow concatenation of a left-toright and a right-to-left model. Unfortunately,\\nstandard conditional language models can only be\\ntrained left-to-right or right-to-left, since bidirectional conditioning would allow each word to indirectly “see itself”, and the model could trivially\\npredict the target word in a multi-layered context.\\nformer is often referred to as a “Transformer encoder” while\\nthe left-context-only version is referred to as a “Transformer\\ndecoder” since it can be used for text generation.\\n\\nIn order to train a deep bidirectional representation, we simply mask some percentage of the input\\ntokens at random, and then predict those masked\\ntokens. We refer to this procedure as a “masked\\nLM” (MLM), although it is often referred to as a\\nCloze task in the literature (Taylor, 1953). In this\\ncase, the final hidden vectors corresponding to the\\nmask tokens are fed into an output softmax over\\nthe vocabulary, as in a standard LM. In all of our\\nexperiments, we mask 15% of all WordPiece tokens in each sequence at random. In contrast to\\ndenoising auto-encoders (Vincent et al., 2008), we\\nonly predict the masked words rather than reconstructing the entire input.\\nAlthough this allows us to obtain a bidirectional pre-trained model, a downside is that we\\nare creating a mismatch between pre-training and\\nfine-tuning, since the [MASK] token does not appear during fine-tuning. To mitigate this, we do\\nnot always replace “masked” words with the actual [MASK] token. The training data generator\\nchooses 15% of the token positions at random for\\nprediction. If the i-th token is chosen, we replace\\nthe i-th token with (1) the [MASK] token 80% of\\nthe time (2) a random token 10% of the time (3)\\nthe unchanged i-th token 10% of the time. Then,\\nTi will be used to predict the original token with\\ncross entropy loss. We compare variations of this\\nprocedure in Appendix C.2.\\nTask #2: Next Sentence Prediction (NSP)\\nMany important downstream tasks such as Question Answering (QA) and Natural Language Inference (NLI) are based on understanding the relationship between two sentences, which is not directly captured by language modeling. In order\\nto train a model that understands sentence relationships, we pre-train for a binarized next sentence prediction task that can be trivially generated from any monolingual corpus. Specifically,\\nwhen choosing the sentences A and B for each pretraining example, 50% of the time B is the actual\\nnext sentence that follows A (labeled as IsNext),\\nand 50% of the time it is a random sentence from\\nthe corpus (labeled as NotNext). As we show\\nin Figure 1, C is used for next sentence prediction (NSP).5 Despite its simplicity, we demonstrate in Section 5.1 that pre-training towards this\\ntask is very beneficial to both QA and NLI. 6\\n5\\n\\nThe final model achieves 97%-98% accuracy on NSP.\\nThe vector C is not a meaningful sentence representation\\nwithout fine-tuning, since it was trained with NSP.\\n6\\n\\n\\x0cInput\\n\\n[CLS]\\n\\nmy\\n\\ndog\\n\\nis\\n\\ncute\\n\\n[SEP]\\n\\nhe\\n\\nlikes\\n\\nplay\\n\\n##ing\\n\\n[SEP]\\n\\nToken\\nEmbeddings\\n\\nE[CLS]\\n\\nEmy\\n\\nEdog\\n\\nEis\\n\\nEcute\\n\\nE[SEP]\\n\\nEhe\\n\\nElikes\\n\\nEplay\\n\\nE##ing\\n\\nE[SEP]\\n\\nSegment\\nEmbeddings\\n\\nEA\\n\\nEA\\n\\nEA\\n\\nEA\\n\\nEA\\n\\nEA\\n\\nEB\\n\\nEB\\n\\nEB\\n\\nEB\\n\\nEB\\n\\nPosition\\nEmbeddings\\n\\nE0\\n\\nE1\\n\\nE2\\n\\nE3\\n\\nE4\\n\\nE5\\n\\nE6\\n\\nE7\\n\\nE8\\n\\nE9\\n\\nE10\\n\\nFigure 2: BERT input representation. The input embeddings are the sum of the token embeddings, the segmentation embeddings and the position embeddings.\\n\\nThe NSP task is closely related to representationlearning objectives used in Jernite et al. (2017) and\\nLogeswaran and Lee (2018). However, in prior\\nwork, only sentence embeddings are transferred to\\ndown-stream tasks, where BERT transfers all parameters to initialize end-task model parameters.\\nPre-training data The pre-training procedure\\nlargely follows the existing literature on language\\nmodel pre-training. For the pre-training corpus we\\nuse the BooksCorpus (800M words) (Zhu et al.,\\n2015) and English Wikipedia (2,500M words).\\nFor Wikipedia we extract only the text passages\\nand ignore lists, tables, and headers. It is critical to use a document-level corpus rather than a\\nshuffled sentence-level corpus such as the Billion\\nWord Benchmark (Chelba et al., 2013) in order to\\nextract long contiguous sequences.\\n3.2\\n\\nFine-tuning BERT\\n\\nFine-tuning is straightforward since the selfattention mechanism in the Transformer allows BERT to model many downstream tasks—\\nwhether they involve single text or text pairs—by\\nswapping out the appropriate inputs and outputs.\\nFor applications involving text pairs, a common\\npattern is to independently encode text pairs before applying bidirectional cross attention, such\\nas Parikh et al. (2016); Seo et al. (2017). BERT\\ninstead uses the self-attention mechanism to unify\\nthese two stages, as encoding a concatenated text\\npair with self-attention effectively includes bidirectional cross attention between two sentences.\\nFor each task, we simply plug in the taskspecific inputs and outputs into BERT and finetune all the parameters end-to-end. At the input, sentence A and sentence B from pre-training\\nare analogous to (1) sentence pairs in paraphrasing, (2) hypothesis-premise pairs in entailment, (3)\\nquestion-passage pairs in question answering, and\\n\\n(4) a degenerate text-∅ pair in text classification\\nor sequence tagging. At the output, the token representations are fed into an output layer for tokenlevel tasks, such as sequence tagging or question\\nanswering, and the [CLS] representation is fed\\ninto an output layer for classification, such as entailment or sentiment analysis.\\nCompared to pre-training, fine-tuning is relatively inexpensive. All of the results in the paper can be replicated in at most 1 hour on a single Cloud TPU, or a few hours on a GPU, starting\\nfrom the exact same pre-trained model.7 We describe the task-specific details in the corresponding subsections of Section 4. More details can be\\nfound in Appendix A.5.\\n\\n4\\n\\nExperiments\\n\\nIn this section, we present BERT fine-tuning results on 11 NLP tasks.\\n4.1\\n\\nGLUE\\n\\nThe General Language Understanding Evaluation\\n(GLUE) benchmark (Wang et al., 2018a) is a collection of diverse natural language understanding\\ntasks. Detailed descriptions of GLUE datasets are\\nincluded in Appendix B.1.\\nTo fine-tune on GLUE, we represent the input\\nsequence (for single sentence or sentence pairs)\\nas described in Section 3, and use the final hidden vector C ∈ RH corresponding to the first\\ninput token ([CLS]) as the aggregate representation. The only new parameters introduced during\\nfine-tuning are classification layer weights W ∈\\nRK×H , where K is the number of labels. We compute a standard classification loss with C and W ,\\ni.e., log(softmax(CW T )).\\n7\\nFor example, the BERT SQuAD model can be trained in\\naround 30 minutes on a single Cloud TPU to achieve a Dev\\nF1 score of 91.0%.\\n8\\nSee (10) in https://gluebenchmark.com/faq.\\n\\n\\x0cSystem\\n\\nMNLI-(m/mm)\\n392k\\nPre-OpenAI SOTA\\n80.6/80.1\\nBiLSTM+ELMo+Attn\\n76.4/76.1\\nOpenAI GPT\\n82.1/81.4\\nBERTBASE\\n84.6/83.4\\nBERTLARGE\\n86.7/85.9\\n\\nQQP\\n363k\\n66.1\\n64.8\\n70.3\\n71.2\\n72.1\\n\\nQNLI\\n108k\\n82.3\\n79.8\\n87.4\\n90.5\\n92.7\\n\\nSST-2\\n67k\\n93.2\\n90.4\\n91.3\\n93.5\\n94.9\\n\\nCoLA\\n8.5k\\n35.0\\n36.0\\n45.4\\n52.1\\n60.5\\n\\nSTS-B\\n5.7k\\n81.0\\n73.3\\n80.0\\n85.8\\n86.5\\n\\nMRPC\\n3.5k\\n86.0\\n84.9\\n82.3\\n88.9\\n89.3\\n\\nRTE\\n2.5k\\n61.7\\n56.8\\n56.0\\n66.4\\n70.1\\n\\nAverage\\n74.0\\n71.0\\n75.1\\n79.6\\n82.1\\n\\nTable 1: GLUE Test results, scored by the evaluation server (https://gluebenchmark.com/leaderboard).\\nThe number below each task denotes the number of training examples. The “Average” column is slightly different\\nthan the official GLUE score, since we exclude the problematic WNLI set.8 BERT and OpenAI GPT are singlemodel, single task. F1 scores are reported for QQP and MRPC, Spearman correlations are reported for STS-B, and\\naccuracy scores are reported for the other tasks. We exclude entries that use BERT as one of their components.\\n\\nWe use a batch size of 32 and fine-tune for 3\\nepochs over the data for all GLUE tasks. For each\\ntask, we selected the best fine-tuning learning rate\\n(among 5e-5, 4e-5, 3e-5, and 2e-5) on the Dev set.\\nAdditionally, for BERTLARGE we found that finetuning was sometimes unstable on small datasets,\\nso we ran several random restarts and selected the\\nbest model on the Dev set. With random restarts,\\nwe use the same pre-trained checkpoint but perform different fine-tuning data shuffling and classifier layer initialization.9\\nResults are presented in Table 1.\\nBoth\\nBERTBASE and BERTLARGE outperform all systems on all tasks by a substantial margin, obtaining\\n4.5% and 7.0% respective average accuracy improvement over the prior state of the art. Note that\\nBERTBASE and OpenAI GPT are nearly identical\\nin terms of model architecture apart from the attention masking. For the largest and most widely\\nreported GLUE task, MNLI, BERT obtains a 4.6%\\nabsolute accuracy improvement. On the official\\nGLUE leaderboard10 , BERTLARGE obtains a score\\nof 80.5, compared to OpenAI GPT, which obtains\\n72.8 as of the date of writing.\\nWe find that BERTLARGE significantly outperforms BERTBASE across all tasks, especially those\\nwith very little training data. The effect of model\\nsize is explored more thoroughly in Section 5.2.\\n4.2\\n\\nSQuAD v1.1\\n\\nThe Stanford Question Answering Dataset\\n(SQuAD v1.1) is a collection of 100k crowdsourced question/answer pairs (Rajpurkar et al.,\\n2016). Given a question and a passage from\\n9\\nThe GLUE data set distribution does not include the Test\\nlabels, and we only made a single GLUE evaluation server\\nsubmission for each of BERTBASE and BERTLARGE .\\n10\\nhttps://gluebenchmark.com/leaderboard\\n\\nWikipedia containing the answer, the task is to\\npredict the answer text span in the passage.\\nAs shown in Figure 1, in the question answering task, we represent the input question and passage as a single packed sequence, with the question using the A embedding and the passage using\\nthe B embedding. We only introduce a start vector S ∈ RH and an end vector E ∈ RH during\\nfine-tuning. The probability of word i being the\\nstart of the answer span is computed as a dot product between Ti and S followed by a softmax over\\nS·Ti\\nall of the words in the paragraph: Pi = Pe S·T\\n.\\nj\\nj\\n\\ne\\n\\nThe analogous formula is used for the end of the\\nanswer span. The score of a candidate span from\\nposition i to position j is defined as S·Ti + E·Tj ,\\nand the maximum scoring span where j ≥ i is\\nused as a prediction. The training objective is the\\nsum of the log-likelihoods of the correct start and\\nend positions. We fine-tune for 3 epochs with a\\nlearning rate of 5e-5 and a batch size of 32.\\nTable 2 shows top leaderboard entries as well\\nas results from top published systems (Seo et al.,\\n2017; Clark and Gardner, 2018; Peters et al.,\\n2018a; Hu et al., 2018). The top results from the\\nSQuAD leaderboard do not have up-to-date public\\nsystem descriptions available,11 and are allowed to\\nuse any public data when training their systems.\\nWe therefore use modest data augmentation in\\nour system by first fine-tuning on TriviaQA (Joshi\\net al., 2017) befor fine-tuning on SQuAD.\\nOur best performing system outperforms the top\\nleaderboard system by +1.5 F1 in ensembling and\\n+1.3 F1 as a single system. In fact, our single\\nBERT model outperforms the top ensemble system in terms of F1 score. Without TriviaQA fine11\\nQANet is described in Yu et al. (2018), but the system\\nhas improved substantially after publication.\\n\\n\\x0cSystem\\n\\nDev\\nEM F1\\n\\nTest\\nEM F1\\n\\nTop Leaderboard Systems (Dec 10th, 2018)\\nHuman\\n- 82.3 91.2\\n#1 Ensemble - nlnet\\n- 86.0 91.7\\n#2 Ensemble - QANet\\n- 84.5 90.5\\nPublished\\nBiDAF+ELMo (Single)\\n- 85.6 - 85.8\\nR.M. Reader (Ensemble)\\n81.2 87.9 82.3 88.5\\nOurs\\nBERTBASE (Single)\\nBERTLARGE (Single)\\nBERTLARGE (Ensemble)\\nBERTLARGE (Sgl.+TriviaQA)\\nBERTLARGE (Ens.+TriviaQA)\\n\\n80.8\\n84.1\\n85.8\\n84.2\\n86.2\\n\\n88.5 90.9 91.8 91.1 85.1 91.8\\n92.2 87.4 93.2\\n\\nTable 2: SQuAD 1.1 results. The BERT ensemble\\nis 7x systems which use different pre-training checkpoints and fine-tuning seeds.\\nSystem\\n\\nDev\\nEM F1\\n\\nTest\\nEM F1\\n\\nTop Leaderboard Systems (Dec 10th, 2018)\\nHuman\\n86.3 89.0 86.9 89.5\\n#1 Single - MIR-MRC (F-Net) - 74.8 78.0\\n#2 Single - nlnet\\n- 74.2 77.1\\nPublished\\nunet (Ensemble)\\nSLQA+ (Single)\\n\\n-\\n\\n-\\n\\n71.4 74.9\\n71.4 74.4\\n\\nOurs\\nBERTLARGE (Single)\\n\\n78.7 81.9 80.0 83.1\\n\\nTable 3: SQuAD 2.0 results. We exclude entries that\\nuse BERT as one of their components.\\n\\ntuning data, we only lose 0.1-0.4 F1, still outperforming all existing systems by a wide margin.12\\n4.3\\n\\nSQuAD v2.0\\n\\nThe SQuAD 2.0 task extends the SQuAD 1.1\\nproblem definition by allowing for the possibility\\nthat no short answer exists in the provided paragraph, making the problem more realistic.\\nWe use a simple approach to extend the SQuAD\\nv1.1 BERT model for this task. We treat questions that do not have an answer as having an answer span with start and end at the [CLS] token. The probability space for the start and end\\nanswer span positions is extended to include the\\nposition of the [CLS] token. For prediction, we\\ncompare the score of the no-answer span: snull =\\nS·C + E·C to the score of the best non-null span\\n12\\n\\nThe TriviaQA data we used consists of paragraphs from\\nTriviaQA-Wiki formed of the first 400 tokens in documents,\\nthat contain at least one of the provided possible answers.\\n\\nSystem\\n\\nDev Test\\n\\nESIM+GloVe\\nESIM+ELMo\\nOpenAI GPT\\n\\n51.9 52.7\\n59.1 59.2\\n- 78.0\\n\\nBERTBASE\\nBERTLARGE\\n\\n81.6 86.6 86.3\\n\\nHuman (expert)†\\nHuman (5 annotations)†\\n\\n-\\n\\n85.0\\n88.0\\n\\nTable 4: SWAG Dev and Test accuracies. † Human performance is measured with 100 samples, as reported in\\nthe SWAG paper.\\n\\nsˆi,j = maxj≥i S·Ti + E·Tj . We predict a non-null\\nanswer when sˆi,j > snull + τ , where the threshold τ is selected on the dev set to maximize F1.\\nWe did not use TriviaQA data for this model. We\\nfine-tuned for 2 epochs with a learning rate of 5e-5\\nand a batch size of 48.\\nThe results compared to prior leaderboard entries and top published work (Sun et al., 2018;\\nWang et al., 2018b) are shown in Table 3, excluding systems that use BERT as one of their components. We observe a +5.1 F1 improvement over\\nthe previous best system.\\n4.4\\n\\nSWAG\\n\\nThe Situations With Adversarial Generations\\n(SWAG) dataset contains 113k sentence-pair completion examples that evaluate grounded commonsense inference (Zellers et al., 2018). Given a sentence, the task is to choose the most plausible continuation among four choices.\\nWhen fine-tuning on the SWAG dataset, we\\nconstruct four input sequences, each containing\\nthe concatenation of the given sentence (sentence\\nA) and a possible continuation (sentence B). The\\nonly task-specific parameters introduced is a vector whose dot product with the [CLS] token representation C denotes a score for each choice\\nwhich is normalized with a softmax layer.\\nWe fine-tune the model for 3 epochs with a\\nlearning rate of 2e-5 and a batch size of 16. Results are presented in Table 4. BERTLARGE outperforms the authors’ baseline ESIM+ELMo system by +27.1% and OpenAI GPT by 8.3%.\\n\\n5\\n\\nAblation Studies\\n\\nIn this section, we perform ablation experiments\\nover a number of facets of BERT in order to better\\nunderstand their relative importance. Additional\\n\\n\\x0cDev Set\\nMNLI-m QNLI MRPC SST-2 SQuAD\\n(Acc) (Acc) (Acc) (Acc)\\n(F1)\\n\\nTasks\\nBERTBASE\\nNo NSP\\nLTR & No NSP\\n+ BiLSTM\\n\\n84.4\\n83.9\\n82.1\\n82.1\\n\\n88.4\\n84.9\\n84.3\\n84.1\\n\\n86.7\\n86.5\\n77.5\\n75.7\\n\\n92.7\\n92.6\\n92.1\\n91.6\\n\\n88.5\\n87.9\\n77.8\\n84.9\\n\\nTable 5: Ablation over the pre-training tasks using the\\nBERTBASE architecture. “No NSP” is trained without\\nthe next sentence prediction task. “LTR & No NSP” is\\ntrained as a left-to-right LM without the next sentence\\nprediction, like OpenAI GPT. “+ BiLSTM” adds a randomly initialized BiLSTM on top of the “LTR + No\\nNSP” model during fine-tuning.\\n\\nablation studies can be found in Appendix C.\\n5.1\\n\\nEffect of Pre-training Tasks\\n\\nWe demonstrate the importance of the deep bidirectionality of BERT by evaluating two pretraining objectives using exactly the same pretraining data, fine-tuning scheme, and hyperparameters as BERTBASE :\\nNo NSP: A bidirectional model which is trained\\nusing the “masked LM” (MLM) but without the\\n“next sentence prediction” (NSP) task.\\nLTR & No NSP: A left-context-only model which\\nis trained using a standard Left-to-Right (LTR)\\nLM, rather than an MLM. The left-only constraint\\nwas also applied at fine-tuning, because removing\\nit introduced a pre-train/fine-tune mismatch that\\ndegraded downstream performance. Additionally,\\nthis model was pre-trained without the NSP task.\\nThis is directly comparable to OpenAI GPT, but\\nusing our larger training dataset, our input representation, and our fine-tuning scheme.\\nWe first examine the impact brought by the NSP\\ntask. In Table 5, we show that removing NSP\\nhurts performance significantly on QNLI, MNLI,\\nand SQuAD 1.1. Next, we evaluate the impact\\nof training bidirectional representations by comparing “No NSP” to “LTR & No NSP”. The LTR\\nmodel performs worse than the MLM model on all\\ntasks, with large drops on MRPC and SQuAD.\\nFor SQuAD it is intuitively clear that a LTR\\nmodel will perform poorly at token predictions,\\nsince the token-level hidden states have no rightside context. In order to make a good faith attempt at strengthening the LTR system, we added\\na randomly initialized BiLSTM on top. This does\\nsignificantly improve results on SQuAD, but the\\n\\nresults are still far worse than those of the pretrained bidirectional models. The BiLSTM hurts\\nperformance on the GLUE tasks.\\nWe recognize that it would also be possible to\\ntrain separate LTR and RTL models and represent\\neach token as the concatenation of the two models, as ELMo does. However: (a) this is twice as\\nexpensive as a single bidirectional model; (b) this\\nis non-intuitive for tasks like QA, since the RTL\\nmodel would not be able to condition the answer\\non the question; (c) this it is strictly less powerful\\nthan a deep bidirectional model, since it can use\\nboth left and right context at every layer.\\n5.2\\n\\nEffect of Model Size\\n\\nIn this section, we explore the effect of model size\\non fine-tuning task accuracy. We trained a number\\nof BERT models with a differing number of layers,\\nhidden units, and attention heads, while otherwise\\nusing the same hyperparameters and training procedure as described previously.\\nResults on selected GLUE tasks are shown in\\nTable 6. In this table, we report the average Dev\\nSet accuracy from 5 random restarts of fine-tuning.\\nWe can see that larger models lead to a strict accuracy improvement across all four datasets, even\\nfor MRPC which only has 3,600 labeled training examples, and is substantially different from\\nthe pre-training tasks. It is also perhaps surprising that we are able to achieve such significant\\nimprovements on top of models which are already quite large relative to the existing literature.\\nFor example, the largest Transformer explored in\\nVaswani et al. (2017) is (L=6, H=1024, A=16)\\nwith 100M parameters for the encoder, and the\\nlargest Transformer we have found in the literature\\nis (L=64, H=512, A=2) with 235M parameters\\n(Al-Rfou et al., 2018). By contrast, BERTBASE\\ncontains 110M parameters and BERTLARGE contains 340M parameters.\\nIt has long been known that increasing the\\nmodel size will lead to continual improvements\\non large-scale tasks such as machine translation\\nand language modeling, which is demonstrated\\nby the LM perplexity of held-out training data\\nshown in Table 6. However, we believe that\\nthis is the first work to demonstrate convincingly that scaling to extreme model sizes also\\nleads to large improvements on very small scale\\ntasks, provided that the model has been sufficiently pre-trained. Peters et al. (2018b) presented\\n\\n\\x0cmixed results on the downstream task impact of\\nincreasing the pre-trained bi-LM size from two\\nto four layers and Melamud et al. (2016) mentioned in passing that increasing hidden dimension size from 200 to 600 helped, but increasing\\nfurther to 1,000 did not bring further improvements. Both of these prior works used a featurebased approach — we hypothesize that when the\\nmodel is fine-tuned directly on the downstream\\ntasks and uses only a very small number of randomly initialized additional parameters, the taskspecific models can benefit from the larger, more\\nexpressive pre-trained representations even when\\ndownstream task data is very small.\\n5.3\\n\\nFeature-based Approach with BERT\\n\\nAll of the BERT results presented so far have used\\nthe fine-tuning approach, where a simple classification layer is added to the pre-trained model, and\\nall parameters are jointly fine-tuned on a downstream task. However, the feature-based approach,\\nwhere fixed features are extracted from the pretrained model, has certain advantages. First, not\\nall tasks can be easily represented by a Transformer encoder architecture, and therefore require\\na task-specific model architecture to be added.\\nSecond, there are major computational benefits\\nto pre-compute an expensive representation of the\\ntraining data once and then run many experiments\\nwith cheaper models on top of this representation.\\nIn this section, we compare the two approaches\\nby applying BERT to the CoNLL-2003 Named\\nEntity Recognition (NER) task (Tjong Kim Sang\\nand De Meulder, 2003). In the input to BERT, we\\nuse a case-preserving WordPiece model, and we\\ninclude the maximal document context provided\\nby the data. Following standard practice, we formulate this as a tagging task but do not use a CRF\\n\\nSystem\\n\\n#L\\n\\n95.7\\n-\\n\\n92.2\\n92.6\\n93.1\\n\\nFine-tuning approach\\nBERTLARGE\\nBERTBASE\\n\\n96.6\\n96.4\\n\\n92.8\\n92.4\\n\\nFeature-based approach (BERTBASE )\\nEmbeddings\\nSecond-to-Last Hidden\\nLast Hidden\\nWeighted Sum Last Four Hidden\\nConcat Last Four Hidden\\nWeighted Sum All 12 Layers\\n\\n91.0\\n95.6\\n94.9\\n95.9\\n96.1\\n95.5\\n\\n-\\n\\nlayer in the output. We use the representation of\\nthe first sub-token as the input to the token-level\\nclassifier over the NER label set.\\nTo ablate the fine-tuning approach, we apply the\\nfeature-based approach by extracting the activations from one or more layers without fine-tuning\\nany parameters of BERT. These contextual embeddings are used as input to a randomly initialized two-layer 768-dimensional BiLSTM before\\nthe classification layer.\\nResults are presented in Table 7. BERTLARGE\\nperforms competitively with state-of-the-art methods. The best performing method concatenates the\\ntoken representations from the top four hidden layers of the pre-trained Transformer, which is only\\n0.3 F1 behind fine-tuning the entire model. This\\ndemonstrates that BERT is effective for both finetuning and feature-based approaches.\\n\\nConclusion\\n\\nDev Set Accuracy\\n\\n#H #A LM (ppl) MNLI-m MRPC SST-2\\n\\n3 768 12\\n6 768 3\\n6 768 12\\n12 768 12\\n12 1024 16\\n24 1024 16\\n\\nELMo (Peters et al., 2018a)\\nCVT (Clark et al., 2018)\\nCSE (Akbik et al., 2018)\\n\\nTable 7: CoNLL-2003 Named Entity Recognition results. Hyperparameters were selected using the Dev\\nset. The reported Dev and Test scores are averaged over\\n5 random restarts using those hyperparameters.\\n\\n6\\nHyperparams\\n\\nDev F1 Test F1\\n\\n5.84\\n5.24\\n4.68\\n3.99\\n3.54\\n3.23\\n\\n77.9\\n80.6\\n81.9\\n84.4\\n85.7\\n86.6\\n\\n79.8\\n82.2\\n84.8\\n86.7\\n86.9\\n87.8\\n\\n88.4\\n90.7\\n91.3\\n92.9\\n93.3\\n93.7\\n\\nTable 6: Ablation over BERT model size. #L = the\\nnumber of layers; #H = hidden size; #A = number of attention heads. “LM (ppl)” is the masked LM perplexity\\nof held-out training data.\\n\\nRecent empirical improvements due to transfer\\nlearning with language models have demonstrated\\nthat rich, unsupervised pre-training is an integral\\npart of many language understanding systems. In\\nparticular, these results enable even low-resource\\ntasks to benefit from deep unidirectional architectures. Our major contribution is further generalizing these findings to deep bidirectional architectures, allowing the same pre-trained model to successfully tackle a broad set of NLP tasks.\\n\\n\\x0cReferences\\nAlan Akbik, Duncan Blythe, and Roland Vollgraf.\\n2018. Contextual string embeddings for sequence\\nlabeling. In Proceedings of the 27th International\\nConference on Computational Linguistics, pages\\n1638–1649.\\nRami Al-Rfou, Dokook Choe, Noah Constant, Mandy\\nGuo, and Llion Jones. 2018. Character-level language modeling with deeper self-attention. arXiv\\npreprint arXiv:1808.04444.\\nRie Kubota Ando and Tong Zhang. 2005. A framework\\nfor learning predictive structures from multiple tasks\\nand unlabeled data. Journal of Machine Learning\\nResearch, 6(Nov):1817–1853.\\nLuisa Bentivogli, Bernardo Magnini, Ido Dagan,\\nHoa Trang Dang, and Danilo Giampiccolo. 2009.\\nThe fifth PASCAL recognizing textual entailment\\nchallenge. In TAC. NIST.\\nJohn Blitzer, Ryan McDonald, and Fernando Pereira.\\n2006. Domain adaptation with structural correspondence learning. In Proceedings of the 2006 conference on empirical methods in natural language processing, pages 120–128. Association for Computational Linguistics.\\nSamuel R. Bowman, Gabor Angeli, Christopher Potts,\\nand Christopher D. Manning. 2015. A large annotated corpus for learning natural language inference.\\nIn EMNLP. Association for Computational Linguistics.\\nPeter F Brown, Peter V Desouza, Robert L Mercer,\\nVincent J Della Pietra, and Jenifer C Lai. 1992.\\nClass-based n-gram models of natural language.\\nComputational linguistics, 18(4):467–479.\\nDaniel Cer, Mona Diab, Eneko Agirre, Inigo LopezGazpio, and Lucia Specia. 2017. Semeval-2017\\ntask 1: Semantic textual similarity multilingual and\\ncrosslingual focused evaluation. In Proceedings\\nof the 11th International Workshop on Semantic\\nEvaluation (SemEval-2017), pages 1–14, Vancouver, Canada. Association for Computational Linguistics.\\nCiprian Chelba, Tomas Mikolov, Mike Schuster, Qi Ge,\\nThorsten Brants, Phillipp Koehn, and Tony Robinson. 2013. One billion word benchmark for measuring progress in statistical language modeling. arXiv\\npreprint arXiv:1312.3005.\\nZ. Chen, H. Zhang, X. Zhang, and L. Zhao. 2018.\\nQuora question pairs.\\nChristopher Clark and Matt Gardner. 2018. Simple\\nand effective multi-paragraph reading comprehension. In ACL.\\n\\nKevin Clark, Minh-Thang Luong, Christopher D Manning, and Quoc Le. 2018. Semi-supervised sequence modeling with cross-view training. In Proceedings of the 2018 Conference on Empirical Methods in Natural Language Processing, pages 1914–\\n1925.\\nRonan Collobert and Jason Weston. 2008. A unified\\narchitecture for natural language processing: Deep\\nneural networks with multitask learning. In Proceedings of the 25th international conference on\\nMachine learning, pages 160–167. ACM.\\nAlexis Conneau, Douwe Kiela, Holger Schwenk, Loı̈c\\nBarrault, and Antoine Bordes. 2017. Supervised\\nlearning of universal sentence representations from\\nnatural language inference data. In Proceedings of\\nthe 2017 Conference on Empirical Methods in Natural Language Processing, pages 670–680, Copenhagen, Denmark. Association for Computational\\nLinguistics.\\nAndrew M Dai and Quoc V Le. 2015. Semi-supervised\\nsequence learning. In Advances in neural information processing systems, pages 3079–3087.\\nJ. Deng, W. Dong, R. Socher, L.-J. Li, K. Li, and L. FeiFei. 2009. ImageNet: A Large-Scale Hierarchical\\nImage Database. In CVPR09.\\nWilliam B Dolan and Chris Brockett. 2005. Automatically constructing a corpus of sentential paraphrases.\\nIn Proceedings of the Third International Workshop\\non Paraphrasing (IWP2005).\\nWilliam Fedus, Ian Goodfellow, and Andrew M Dai.\\n2018. Maskgan: Better text generation via filling in\\nthe . arXiv preprint arXiv:1801.07736.\\nDan Hendrycks and Kevin Gimpel. 2016. Bridging\\nnonlinearities and stochastic regularizers with gaussian error linear units. CoRR, abs/1606.08415.\\nFelix Hill, Kyunghyun Cho, and Anna Korhonen. 2016.\\nLearning distributed representations of sentences\\nfrom unlabelled data. In Proceedings of the 2016\\nConference of the North American Chapter of the\\nAssociation for Computational Linguistics: Human\\nLanguage Technologies. Association for Computational Linguistics.\\nJeremy Howard and Sebastian Ruder. 2018. Universal\\nlanguage model fine-tuning for text classification. In\\nACL. Association for Computational Linguistics.\\nMinghao Hu, Yuxing Peng, Zhen Huang, Xipeng Qiu,\\nFuru Wei, and Ming Zhou. 2018. Reinforced\\nmnemonic reader for machine reading comprehension. In IJCAI.\\nYacine Jernite, Samuel R. Bowman, and David Sontag. 2017. Discourse-based objectives for fast unsupervised sentence representation learning. CoRR,\\nabs/1705.00557.\\n\\n\\x0cMandar Joshi, Eunsol Choi, Daniel S Weld, and Luke\\nZettlemoyer. 2017. Triviaqa: A large scale distantly\\nsupervised challenge dataset for reading comprehension. In ACL.\\nRyan Kiros, Yukun Zhu, Ruslan R Salakhutdinov,\\nRichard Zemel, Raquel Urtasun, Antonio Torralba,\\nand Sanja Fidler. 2015. Skip-thought vectors. In\\nAdvances in neural information processing systems,\\npages 3294–3302.\\nQuoc Le and Tomas Mikolov. 2014. Distributed representations of sentences and documents. In International Conference on Machine Learning, pages\\n1188–1196.\\nHector J Levesque, Ernest Davis, and Leora Morgenstern. 2011. The winograd schema challenge. In\\nAaai spring symposium: Logical formalizations of\\ncommonsense reasoning, volume 46, page 47.\\nLajanugen Logeswaran and Honglak Lee. 2018. An\\nefficient framework for learning sentence representations. In International Conference on Learning\\nRepresentations.\\nBryan McCann, James Bradbury, Caiming Xiong, and\\nRichard Socher. 2017. Learned in translation: Contextualized word vectors. In NIPS.\\nOren Melamud, Jacob Goldberger, and Ido Dagan.\\n2016. context2vec: Learning generic context embedding with bidirectional LSTM. In CoNLL.\\nTomas Mikolov, Ilya Sutskever, Kai Chen, Greg S Corrado, and Jeff Dean. 2013. Distributed representations of words and phrases and their compositionality. In Advances in Neural Information Processing\\nSystems 26, pages 3111–3119. Curran Associates,\\nInc.\\nAndriy Mnih and Geoffrey E Hinton. 2009. A scalable hierarchical distributed language model. In\\nD. Koller, D. Schuurmans, Y. Bengio, and L. Bottou, editors, Advances in Neural Information Processing Systems 21, pages 1081–1088. Curran Associates, Inc.\\nAnkur P Parikh, Oscar Täckström, Dipanjan Das, and\\nJakob Uszkoreit. 2016. A decomposable attention\\nmodel for natural language inference. In EMNLP.\\nJeffrey Pennington, Richard Socher, and Christopher D. Manning. 2014. Glove: Global vectors for\\nword representation. In Empirical Methods in Natural Language Processing (EMNLP), pages 1532–\\n1543.\\nMatthew Peters, Waleed Ammar, Chandra Bhagavatula, and Russell Power. 2017. Semi-supervised sequence tagging with bidirectional language models.\\nIn ACL.\\nMatthew Peters, Mark Neumann, Mohit Iyyer, Matt\\nGardner, Christopher Clark, Kenton Lee, and Luke\\nZettlemoyer. 2018a. Deep contextualized word representations. In NAACL.\\n\\nMatthew Peters, Mark Neumann, Luke Zettlemoyer,\\nand Wen-tau Yih. 2018b. Dissecting contextual\\nword embeddings: Architecture and representation.\\nIn Proceedings of the 2018 Conference on Empirical Methods in Natural Language Processing, pages\\n1499–1509.\\nAlec Radford, Karthik Narasimhan, Tim Salimans, and\\nIlya Sutskever. 2018. Improving language understanding with unsupervised learning. Technical report, OpenAI.\\nPranav Rajpurkar, Jian Zhang, Konstantin Lopyrev, and\\nPercy Liang. 2016. Squad: 100,000+ questions for\\nmachine comprehension of text. In Proceedings of\\nthe 2016 Conference on Empirical Methods in Natural Language Processing, pages 2383–2392.\\nMinjoon Seo, Aniruddha Kembhavi, Ali Farhadi, and\\nHannaneh Hajishirzi. 2017. Bidirectional attention\\nflow for machine comprehension. In ICLR.\\nRichard Socher, Alex Perelygin, Jean Wu, Jason\\nChuang, Christopher D Manning, Andrew Ng, and\\nChristopher Potts. 2013. Recursive deep models\\nfor semantic compositionality over a sentiment treebank. In Proceedings of the 2013 conference on\\nempirical methods in natural language processing,\\npages 1631–1642.\\nFu Sun, Linyang Li, Xipeng Qiu, and Yang Liu.\\n2018. U-net: Machine reading comprehension\\nwith unanswerable questions.\\narXiv preprint\\narXiv:1810.06638.\\nWilson L Taylor. 1953. Cloze procedure: A new\\ntool for measuring readability. Journalism Bulletin,\\n30(4):415–433.\\nErik F Tjong Kim Sang and Fien De Meulder.\\n2003. Introduction to the conll-2003 shared task:\\nLanguage-independent named entity recognition. In\\nCoNLL.\\nJoseph Turian, Lev Ratinov, and Yoshua Bengio. 2010.\\nWord representations: A simple and general method\\nfor semi-supervised learning. In Proceedings of the\\n48th Annual Meeting of the Association for Computational Linguistics, ACL ’10, pages 384–394.\\nAshish Vaswani, Noam Shazeer, Niki Parmar, Jakob\\nUszkoreit, Llion Jones, Aidan N Gomez, Lukasz\\nKaiser, and Illia Polosukhin. 2017. Attention is all\\nyou need. In Advances in Neural Information Processing Systems, pages 6000–6010.\\nPascal Vincent, Hugo Larochelle, Yoshua Bengio, and\\nPierre-Antoine Manzagol. 2008. Extracting and\\ncomposing robust features with denoising autoencoders. In Proceedings of the 25th international\\nconference on Machine learning, pages 1096–1103.\\nACM.\\nAlex Wang, Amanpreet Singh, Julian Michael, Felix Hill, Omer Levy, and Samuel Bowman. 2018a.\\nGlue: A multi-task benchmark and analysis platform\\n\\n\\x0c• Additional details for our experiments are\\npresented in Appendix B; and\\n\\nfor natural language understanding. In Proceedings\\nof the 2018 EMNLP Workshop BlackboxNLP: Analyzing and Interpreting Neural Networks for NLP,\\npages 353–355.\\n\\n• Additional ablation studies are presented in\\nAppendix C.\\n\\nWei Wang, Ming Yan, and Chen Wu. 2018b. Multigranularity hierarchical attention fusion networks\\nfor reading comprehension and question answering.\\nIn Proceedings of the 56th Annual Meeting of the Association for Computational Linguistics (Volume 1:\\nLong Papers). Association for Computational Linguistics.\\nAlex Warstadt, Amanpreet Singh, and Samuel R Bowman. 2018. Neural network acceptability judgments. arXiv preprint arXiv:1805.12471.\\nAdina Williams, Nikita Nangia, and Samuel R Bowman. 2018. A broad-coverage challenge corpus\\nfor sentence understanding through inference. In\\nNAACL.\\nYonghui Wu, Mike Schuster, Zhifeng Chen, Quoc V\\nLe, Mohammad Norouzi, Wolfgang Macherey,\\nMaxim Krikun, Yuan Cao, Qin Gao, Klaus\\nMacherey, et al. 2016.\\nGoogle’s neural machine translation system: Bridging the gap between\\nhuman and machine translation. arXiv preprint\\narXiv:1609.08144.\\nJason Yosinski, Jeff Clune, Yoshua Bengio, and Hod\\nLipson. 2014. How transferable are features in deep\\nneural networks? In Advances in neural information\\nprocessing systems, pages 3320–3328.\\nAdams Wei Yu, David Dohan, Minh-Thang Luong, Rui\\nZhao, Kai Chen, Mohammad Norouzi, and Quoc V\\nLe. 2018. QANet: Combining local convolution\\nwith global self-attention for reading comprehension. In ICLR.\\nRowan Zellers, Yonatan Bisk, Roy Schwartz, and Yejin\\nChoi. 2018. Swag: A large-scale adversarial dataset\\nfor grounded commonsense inference. In Proceedings of the 2018 Conference on Empirical Methods\\nin Natural Language Processing (EMNLP).\\nYukun Zhu, Ryan Kiros, Rich Zemel, Ruslan Salakhutdinov, Raquel Urtasun, Antonio Torralba, and Sanja\\nFidler. 2015. Aligning books and movies: Towards\\nstory-like visual explanations by watching movies\\nand reading books. In Proceedings of the IEEE\\ninternational conference on computer vision, pages\\n19–27.\\n\\nAppendix for “BERT: Pre-training of\\nDeep Bidirectional Transformers for\\nLanguage Understanding”\\nWe organize the appendix into three sections:\\n• Additional implementation details for BERT\\nare presented in Appendix A;\\n\\nWe present additional ablation studies for\\nBERT including:\\n– Effect of Number of Training Steps; and\\n– Ablation for Different Masking Procedures.\\n\\nA\\n\\nAdditional Details for BERT\\n\\nA.1\\n\\nIllustration of the Pre-training Tasks\\n\\nWe provide examples of the pre-training tasks in\\nthe following.\\nMasked LM and the Masking Procedure Assuming the unlabeled sentence is my dog is\\nhairy, and during the random masking procedure\\nwe chose the 4-th token (which corresponding to\\nhairy), our masking procedure can be further illustrated by\\n• 80% of the time: Replace the word with the\\n[MASK] token, e.g., my dog is hairy →\\nmy dog is [MASK]\\n\\n• 10% of the time: Replace the word with a\\nrandom word, e.g., my dog is hairy → my\\ndog is apple\\n\\n• 10% of the time: Keep the word unchanged, e.g., my dog is hairy → my dog\\nis hairy. The purpose of this is to bias the\\nrepresentation towards the actual observed\\nword.\\nThe advantage of this procedure is that the\\nTransformer encoder does not know which words\\nit will be asked to predict or which have been replaced by random words, so it is forced to keep\\na distributional contextual representation of every input token. Additionally, because random\\nreplacement only occurs for 1.5% of all tokens\\n(i.e., 10% of 15%), this does not seem to harm\\nthe model’s language understanding capability. In\\nSection C.2, we evaluate the impact this procedure.\\nCompared to standard langauge model training,\\nthe masked LM only make predictions on 15% of\\ntokens in each batch, which suggests that more\\npre-training steps may be required for the model\\n\\n\\x0cBERT (Ours)\\n\\nOpenAI GPT\\n\\nELMo\\n\\nT1\\n\\nT2\\n\\n...\\n\\nTN\\n\\nT1\\n\\nT2\\n\\n...\\n\\nTN\\n\\nTrm\\n\\nTrm\\n\\n...\\n\\nTrm\\n\\nTrm\\n\\nTrm\\n\\n...\\n\\nTrm\\n\\nTrm\\n\\nE1\\n\\n...\\n\\nTrm\\n\\nE2\\n\\n...\\n\\nTrm\\n\\nEN\\n\\nTrm\\n\\nE1\\n\\nTrm\\n\\nE2\\n\\n...\\n\\n...\\n\\nT1\\n\\nTrm\\n\\nEN\\n\\nT2\\n\\n...\\n\\nTN\\n\\nLstm\\n\\nLstm\\n\\n...\\n\\nLstm\\n\\nLstm\\n\\nLstm\\n\\nLstm\\n\\nLstm\\n\\n...\\n\\nLstm\\n\\nLstm\\n\\nLstm\\n\\nE1\\n\\nE2\\n\\n...\\n\\n...\\n...\\n\\nLstm\\n\\nLstm\\n\\nEN\\n\\nFigure 3: Differences in pre-training model architectures. BERT uses a bidirectional Transformer. OpenAI GPT\\nuses a left-to-right Transformer. ELMo uses the concatenation of independently trained left-to-right and right-toleft LSTMs to generate features for downstream tasks. Among the three, only BERT representations are jointly\\nconditioned on both left and right context in all layers. In addition to the architecture differences, BERT and\\nOpenAI GPT are fine-tuning approaches, while ELMo is a feature-based approach.\\n\\nto converge. In Section C.1 we demonstrate that\\nMLM does converge marginally slower than a leftto-right model (which predicts every token), but\\nthe empirical improvements of the MLM model\\nfar outweigh the increased training cost.\\nNext Sentence Prediction The next sentence\\nprediction task can be illustrated in the following\\nexamples.\\nInput = [CLS]\\n\\nthe man went to [MASK] store [SEP]\\n\\nhe bought a gallon [MASK] milk [SEP]\\n\\nLabel = IsNext\\nInput = [CLS]\\n\\nthe man [MASK] to the store [SEP]\\n\\npenguin [MASK] are flight ##less birds [SEP]\\n\\nLabel = NotNext\\nA.2\\n\\nPre-training Procedure\\n\\nTo generate each training input sequence, we sample two spans of text from the corpus, which we\\nrefer to as “sentences” even though they are typically much longer than single sentences (but can\\nbe shorter also). The first sentence receives the A\\nembedding and the second receives the B embedding. 50% of the time B is the actual next sentence\\nthat follows A and 50% of the time it is a random\\nsentence, which is done for the “next sentence prediction” task. They are sampled such that the combined length is ≤ 512 tokens. The LM masking is\\napplied after WordPiece tokenization with a uniform masking rate of 15%, and no special consideration given to partial word pieces.\\nWe train with batch size of 256 sequences (256\\nsequences * 512 tokens = 128,000 tokens/batch)\\nfor 1,000,000 steps, which is approximately 40\\n\\nepochs over the 3.3 billion word corpus. We\\nuse Adam with learning rate of 1e-4, β1 = 0.9,\\nβ2 = 0.999, L2 weight decay of 0.01, learning\\nrate warmup over the first 10,000 steps, and linear\\ndecay of the learning rate. We use a dropout probability of 0.1 on all layers. We use a gelu activation (Hendrycks and Gimpel, 2016) rather than\\nthe standard relu, following OpenAI GPT. The\\ntraining loss is the sum of the mean masked LM\\nlikelihood and the mean next sentence prediction\\nlikelihood.\\nTraining of BERTBASE was performed on 4\\nCloud TPUs in Pod configuration (16 TPU chips\\ntotal).13 Training of BERTLARGE was performed\\non 16 Cloud TPUs (64 TPU chips total). Each pretraining took 4 days to complete.\\nLonger sequences are disproportionately expensive because attention is quadratic to the sequence\\nlength. To speed up pretraing in our experiments,\\nwe pre-train the model with sequence length of\\n128 for 90% of the steps. Then, we train the rest\\n10% of the steps of sequence of 512 to learn the\\npositional embeddings.\\nA.3\\n\\nFine-tuning Procedure\\n\\nFor fine-tuning, most model hyperparameters are\\nthe same as in pre-training, with the exception of\\nthe batch size, learning rate, and number of training epochs. The dropout probability was always\\nkept at 0.1. The optimal hyperparameter values\\nare task-specific, but we found the following range\\nof possible values to work well across all tasks:\\n• Batch size: 16, 32\\n13\\n\\nhttps://cloudplatform.googleblog.com/2018/06/CloudTPU-now-offers-preemptible-pricing-and-globalavailability.html\\n\\n\\x0c• Learning rate (Adam): 5e-5, 3e-5, 2e-5\\n• Number of epochs: 2, 3, 4\\nWe also observed that large data sets (e.g.,\\n100k+ labeled training examples) were far less\\nsensitive to hyperparameter choice than small data\\nsets. Fine-tuning is typically very fast, so it is reasonable to simply run an exhaustive search over\\nthe above parameters and choose the model that\\nperforms best on the development set.\\nA.4\\n\\nComparison of BERT, ELMo ,and\\nOpenAI GPT\\n\\nHere we studies the differences in recent popular\\nrepresentation learning models including ELMo,\\nOpenAI GPT and BERT. The comparisons between the model architectures are shown visually\\nin Figure 3. Note that in addition to the architecture differences, BERT and OpenAI GPT are finetuning approaches, while ELMo is a feature-based\\napproach.\\nThe most comparable existing pre-training\\nmethod to BERT is OpenAI GPT, which trains a\\nleft-to-right Transformer LM on a large text corpus. In fact, many of the design decisions in BERT\\nwere intentionally made to make it as close to\\nGPT as possible so that the two methods could be\\nminimally compared. The core argument of this\\nwork is that the bi-directionality and the two pretraining tasks presented in Section 3.1 account for\\nthe majority of the empirical improvements, but\\nwe do note that there are several other differences\\nbetween how BERT and GPT were trained:\\n• GPT is trained on the BooksCorpus (800M\\nwords); BERT is trained on the BooksCorpus (800M words) and Wikipedia (2,500M\\nwords).\\n• GPT uses a sentence separator ([SEP]) and\\nclassifier token ([CLS]) which are only introduced at fine-tuning time; BERT learns\\n[SEP], [CLS] and sentence A/B embeddings during pre-training.\\n• GPT was trained for 1M steps with a batch\\nsize of 32,000 words; BERT was trained for\\n1M steps with a batch size of 128,000 words.\\n• GPT used the same learning rate of 5e-5 for\\nall fine-tuning experiments; BERT chooses a\\ntask-specific fine-tuning learning rate which\\nperforms the best on the development set.\\n\\nTo isolate the effect of these differences, we perform ablation experiments in Section 5.1 which\\ndemonstrate that the majority of the improvements\\nare in fact coming from the two pre-training tasks\\nand the bidirectionality they enable.\\nA.5\\n\\nIllustrations of Fine-tuning on Different\\nTasks\\n\\nThe illustration of fine-tuning BERT on different\\ntasks can be seen in Figure 4. Our task-specific\\nmodels are formed by incorporating BERT with\\none additional output layer, so a minimal number of parameters need to be learned from scratch.\\nAmong the tasks, (a) and (b) are sequence-level\\ntasks while (c) and (d) are token-level tasks. In\\nthe figure, E represents the input embedding, Ti\\nrepresents the contextual representation of token i,\\n[CLS] is the special symbol for classification output, and [SEP] is the special symbol to separate\\nnon-consecutive token sequences.\\n\\nB\\nB.1\\n\\nDetailed Experimental Setup\\nDetailed Descriptions for the GLUE\\nBenchmark Experiments.\\n\\nOur GLUE results in Table1 are obtained\\nfrom\\nhttps://gluebenchmark.com/\\nleaderboard\\nand\\nhttps://blog.\\nopenai.com/language-unsupervised.\\nThe GLUE benchmark includes the following\\ndatasets, the descriptions of which were originally\\nsummarized in Wang et al. (2018a):\\nMNLI Multi-Genre Natural Language Inference\\nis a large-scale, crowdsourced entailment classification task (Williams et al., 2018). Given a pair of\\nsentences, the goal is to predict whether the second sentence is an entailment, contradiction, or\\nneutral with respect to the first one.\\nQQP Quora Question Pairs is a binary classification task where the goal is to determine if two\\nquestions asked on Quora are semantically equivalent (Chen et al., 2018).\\nQNLI Question Natural Language Inference is\\na version of the Stanford Question Answering\\nDataset (Rajpurkar et al., 2016) which has been\\nconverted to a binary classification task (Wang\\net al., 2018a). The positive examples are (question, sentence) pairs which do contain the correct\\nanswer, and the negative examples are (question,\\nsentence) from the same paragraph which do not\\ncontain the answer.\\n\\n\\x0cClass\\nLabel\\n\\nC\\n\\nClass\\nLabel\\n\\nT1\\n\\n...\\n\\nTN\\n\\nT[SEP]\\n\\n...\\n\\nT1’\\n\\nTM’\\n\\nC\\n\\nT1\\n\\nBERT\\n\\nT2\\n\\n...\\n\\nTN\\n\\nBERT\\n\\nE[CLS]\\n\\nE1\\n\\n...\\n\\nEN\\n\\nE[SEP]\\n\\nE1’\\n\\n...\\n\\nEM’\\n\\nE[CLS]\\n\\nE1\\n\\nE2\\n\\n...\\n\\nEN\\n\\n[CLS]\\n\\nTok\\n1\\n\\n...\\n\\nTok\\nN\\n\\n[SEP]\\n\\nTok\\n1\\n\\n...\\n\\nTok\\nM\\n\\n[CLS]\\n\\nTok 1\\n\\nTok 2\\n\\n...\\n\\nTok N\\n\\nSentence 1\\n\\nSentence 2\\n\\nSingle Sentence\\n\\nStart/End Span\\n\\nC\\n\\nT1\\n\\n...\\n\\nTN\\n\\nT[SEP]\\n\\nT1’\\n\\n...\\n\\nTM’\\n\\nO\\n\\nC\\n\\nT1\\n\\nBERT\\n\\nB-PER\\n\\n...\\n\\nO\\n\\nT2\\n\\n...\\n\\nTN\\n\\nBERT\\n\\nE[CLS]\\n\\nE1\\n\\n...\\n\\nEN\\n\\nE[SEP]\\n\\nE1’\\n\\n...\\n\\nEM’\\n\\nE[CLS]\\n\\nE1\\n\\nE2\\n\\n...\\n\\nEN\\n\\n[CLS]\\n\\nTok\\n1\\n\\n...\\n\\nTok\\nN\\n\\n[SEP]\\n\\nTok\\n1\\n\\n...\\n\\nTok\\nM\\n\\n[CLS]\\n\\nTok 1\\n\\nTok 2\\n\\n...\\n\\nTok N\\n\\nQuestion\\n\\nParagraph\\n\\nSingle Sentence\\n\\nFigure 4: Illustrations of Fine-tuning BERT on Different Tasks.\\n\\nSST-2 The Stanford Sentiment Treebank is a\\nbinary single-sentence classification task consisting of sentences extracted from movie reviews\\nwith human annotations of their sentiment (Socher\\net al., 2013).\\nCoLA The Corpus of Linguistic Acceptability is\\na binary single-sentence classification task, where\\nthe goal is to predict whether an English sentence\\nis linguistically “acceptable” or not (Warstadt\\net al., 2018).\\nSTS-B The Semantic Textual Similarity Benchmark is a collection of sentence pairs drawn from\\nnews headlines and other sources (Cer et al.,\\n2017). They were annotated with a score from 1\\nto 5 denoting how similar the two sentences are in\\nterms of semantic meaning.\\nMRPC Microsoft Research Paraphrase Corpus\\nconsists of sentence pairs automatically extracted\\nfrom online news sources, with human annotations\\n\\nfor whether the sentences in the pair are semantically equivalent (Dolan and Brockett, 2005).\\nRTE Recognizing Textual Entailment is a binary entailment task similar to MNLI, but with\\nmuch less training data (Bentivogli et al., 2009).14\\nWNLI Winograd NLI is a small natural language inference dataset (Levesque et al., 2011).\\nThe GLUE webpage notes that there are issues\\nwith the construction of this dataset, 15 and every\\ntrained system that’s been submitted to GLUE has\\nperformed worse than the 65.1 baseline accuracy\\nof predicting the majority class. We therefore exclude this set to be fair to OpenAI GPT. For our\\nGLUE submission, we always predicted the ma14\\nNote that we only report single-task fine-tuning results\\nin this paper. A multitask fine-tuning approach could potentially push the performance even further. For example, we\\ndid observe substantial improvements on RTE from multitask training with MNLI.\\n15\\nhttps://gluebenchmark.com/faq\\n\\n\\x0cjority class.\\n\\nC\\n\\nAdditional Ablation Studies\\n\\nC.1\\n\\nEffect of Number of Training Steps\\n\\nFigure 5 presents MNLI Dev accuracy after finetuning from a checkpoint that has been pre-trained\\nfor k steps. This allows us to answer the following\\nquestions:\\n1. Question: Does BERT really need such\\na large amount of pre-training (128,000\\nwords/batch * 1,000,000 steps) to achieve\\nhigh fine-tuning accuracy?\\nAnswer: Yes, BERTBASE achieves almost\\n1.0% additional accuracy on MNLI when\\ntrained on 1M steps compared to 500k steps.\\n2. Question: Does MLM pre-training converge\\nslower than LTR pre-training, since only 15%\\nof words are predicted in each batch rather\\nthan every word?\\nAnswer: The MLM model does converge\\nslightly slower than the LTR model. However, in terms of absolute accuracy the MLM\\nmodel begins to outperform the LTR model\\nalmost immediately.\\nC.2\\n\\nAblation for Different Masking\\nProcedures\\n\\nIn Section 3.1, we mention that BERT uses a\\nmixed strategy for masking the target tokens when\\npre-training with the masked language model\\n(MLM) objective. The following is an ablation\\nstudy to evaluate the effect of different masking\\nstrategies.\\n\\nMNLI Dev Accuracy\\n\\n84\\n82\\n80\\n78\\nBERTBASE (Masked LM)\\nBERTBASE (Left-to-Right)\\n\\n76\\n200\\n\\n400\\n\\n600\\n\\n800\\n\\n1,000\\n\\nPre-training Steps (Thousands)\\n\\nFigure 5: Ablation over number of training steps. This\\nshows the MNLI accuracy after fine-tuning, starting\\nfrom model parameters that have been pre-trained for\\nk steps. The x-axis is the value of k.\\n\\nNote that the purpose of the masking strategies\\nis to reduce the mismatch between pre-training\\nand fine-tuning, as the [MASK] symbol never appears during the fine-tuning stage. We report the\\nDev results for both MNLI and NER. For NER,\\nwe report both fine-tuning and feature-based approaches, as we expect the mismatch will be amplified for the feature-based approach as the model\\nwill not have the chance to adjust the representations.\\nMasking Rates\\nM ASK S AME\\n80%\\n100%\\n80%\\n80%\\n0%\\n0%\\n\\nR ND\\n\\n10% 10%\\n0%\\n0%\\n0% 20%\\n20%\\n0%\\n20% 80%\\n0% 100%\\n\\nDev Set Results\\nMNLI\\nNER\\nFine-tune Fine-tune Feature-based\\n84.2\\n84.3\\n84.1\\n84.4\\n83.7\\n83.6\\n\\n95.4\\n94.9\\n95.2\\n95.2\\n94.8\\n94.9\\n\\n94.9\\n94.0\\n94.6\\n94.7\\n94.6\\n94.6\\n\\nTable 8: Ablation over different masking strategies.\\n\\nThe results are presented in Table 8. In the table,\\nM ASK means that we replace the target token with\\nthe [MASK] symbol for MLM; S AME means that\\nwe keep the target token as is; R ND means that\\nwe replace the target token with another random\\ntoken.\\nThe numbers in the left part of the table represent the probabilities of the specific strategies used\\nduring MLM pre-training (BERT uses 80%, 10%,\\n10%). The right part of the paper represents the\\nDev set results. For the feature-based approach,\\nwe concatenate the last 4 layers of BERT as the\\nfeatures, which was shown to be the best approach\\nin Section 5.3.\\nFrom the table it can be seen that fine-tuning is\\nsurprisingly robust to different masking strategies.\\nHowever, as expected, using only the M ASK strategy was problematic when applying the featurebased approach to NER. Interestingly, using only\\nthe R ND strategy performs much worse than our\\nstrategy as well.\\n\\n\\x0c'"
      ]
     },
     "execution_count": 39,
     "metadata": {},
     "output_type": "execute_result"
    }
   ],
   "source": [
    "text"
   ]
  },
  {
   "cell_type": "code",
   "execution_count": 42,
   "metadata": {
    "ExecuteTime": {
     "end_time": "2021-02-13T16:50:16.019314Z",
     "start_time": "2021-02-13T16:50:15.695587Z"
    }
   },
   "outputs": [
    {
     "name": "stderr",
     "output_type": "stream",
     "text": [
      "INFO:azure.core.pipeline.policies.http_logging_policy:Request URL: 'https://study-buddy.cognitiveservices.azure.com//text/analytics/v3.1-preview.3/keyPhrases?showStats=REDACTED'\n",
      "INFO:azure.core.pipeline.policies.http_logging_policy:Request method: 'POST'\n",
      "INFO:azure.core.pipeline.policies.http_logging_policy:Request headers:\n",
      "INFO:azure.core.pipeline.policies.http_logging_policy:    'Content-Type': 'application/json'\n",
      "INFO:azure.core.pipeline.policies.http_logging_policy:    'Accept': 'application/json, text/json'\n",
      "INFO:azure.core.pipeline.policies.http_logging_policy:    'Content-Length': '5173'\n",
      "INFO:azure.core.pipeline.policies.http_logging_policy:    'x-ms-client-request-id': '8c02e2d6-6e1b-11eb-ab4a-0182ce42c58c'\n",
      "INFO:azure.core.pipeline.policies.http_logging_policy:    'User-Agent': 'azsdk-python-ai-textanalytics/5.1.0b5 Python/3.8.5 (Linux-5.4.0-65-generic-x86_64-with-glibc2.29)'\n",
      "INFO:azure.core.pipeline.policies.http_logging_policy:    'Ocp-Apim-Subscription-Key': 'REDACTED'\n",
      "INFO:azure.core.pipeline.policies.http_logging_policy:A body is sent with the request\n",
      "INFO:azure.core.pipeline.policies.http_logging_policy:Response status: 200\n",
      "INFO:azure.core.pipeline.policies.http_logging_policy:Response headers:\n",
      "INFO:azure.core.pipeline.policies.http_logging_policy:    'Transfer-Encoding': 'chunked'\n",
      "INFO:azure.core.pipeline.policies.http_logging_policy:    'Content-Type': 'application/json; charset=utf-8'\n",
      "INFO:azure.core.pipeline.policies.http_logging_policy:    'csp-billing-usage': 'REDACTED'\n",
      "INFO:azure.core.pipeline.policies.http_logging_policy:    'x-envoy-upstream-service-time': 'REDACTED'\n",
      "INFO:azure.core.pipeline.policies.http_logging_policy:    'apim-request-id': 'REDACTED'\n",
      "INFO:azure.core.pipeline.policies.http_logging_policy:    'Strict-Transport-Security': 'REDACTED'\n",
      "INFO:azure.core.pipeline.policies.http_logging_policy:    'x-content-type-options': 'REDACTED'\n",
      "INFO:azure.core.pipeline.policies.http_logging_policy:    'Date': 'Sat, 13 Feb 2021 16:50:15 GMT'\n"
     ]
    },
    {
     "name": "stdout",
     "output_type": "stream",
     "text": [
      "\tKey Phrases:\n",
      "\t\t pre-trained language representations\n",
      "\t\t pre-trained representations\n",
      "\t\t masked language models\n",
      "\t\t general language representations\n",
      "\t\t Language Understanding\n",
      "\t\t toright language model pre-training\n",
      "\t\t unidirectional language models\n",
      "\t\t pre-trained BERT model\n",
      "\t\t standard language models\n",
      "\t\t pre-training objective\n",
      "\t\t new language representation model\n",
      "\t\t natural language inference\n",
      "\t\t natural language processing\n",
      "\t\t recent language representation models\n",
      "\t\t Google AI Language\n",
      "\t\t Pre-training of Deep Bidirectional Transformers\n",
      "\t\t Bidirectional Encoder Representations\n",
      "\t\t Generative Pre-trained Transformer\n",
      "\t\t pretrained deep bidirectional representations\n",
      "\t\t token-level tasks\n",
      "\t\t sentence-level tasks\n",
      "\t\t downstream tasks\n",
      "\t\t processing tasks\n",
      "\t\t state-of-the-art models\n",
      "\t\t range of tasks\n",
      "\t\t token level\n",
      "\t\t fine-tuning approaches\n",
      "\t\t importance of bidirectional\n",
      "\t\t question\n",
      "\t\t Peters\n",
      "\t\t absolute improvement\n",
      "\t\t Radford\n",
      "\t\t pretrains text-pair representations\n",
      "\t\t feature-based approach\n",
      "\t\t MLM objective\n",
      "\t\t task-specific architectures\n",
      "\t\t right context\n",
      "\t\t left-toright architecture\n",
      "\t\t task-specific parameters\n",
      "\t\t objective function\n",
      "\t\t Cloze task\n",
      "\t\t sentence prediction\n",
      "\t\t new state-of-the-art results\n",
      "\t\t Test F1\n",
      "\t\t finetuning\n",
      "\t\t state-of-the-art performance\n",
      "\t\t pretrained parameters\n",
      "\t\t engineered taskspecific architectures\n",
      "\t\t OpenAI GPT\n",
      "\t\t choice of architectures\n",
      "\t\t paper\n",
      "\t\t additional output layer\n",
      "\t\t SQuAD v2\n",
      "\t\t SQuAD v1\n",
      "\t\t substantial taskspecific architecture modifications\n",
      "\t\t previous tokens\n",
      "\t\t additional features\n",
      "\t\t unlabeled text\n",
      "\t\t self-attention layers\n",
      "\t\t Ming-Wei Chang Kenton Lee Kristina Toutanova\n",
      "\t\t authors\n",
      "\t\t existing strategies\n",
      "\t\t mentioned unidirectionality constraint\n",
      "\t\t major limitation\n",
      "\t\t Tjong Kim\n",
      "\t\t large suite\n",
      "\t\t restrictions\n",
      "\t\t original vocabulary id\n",
      "\t\t limits\n",
      "\t\t ELMo\n",
      "\t\t Dai\n",
      "\t\t Bowman\n",
      "\t\t power\n",
      "\t\t paraphrasing\n",
      "\t\t jacobdevlin\n",
      "\t\t mingweichang\n",
      "\t\t kentonl\n",
      "\t\t need\n",
      "\t\t Howard\n",
      "\t\t entity recognition\n",
      "\t\t directions\n",
      "\t\t example\n",
      "\t\t Taylor\n",
      "\t\t GLUE score\n",
      "\t\t input\n",
      "\t\t Jacob Devlin\n",
      "\t\t arXiv\n",
      "\t\t 04805v2\n",
      "\t\t MultiNLI accuracy\n",
      "\t\t relationships\n",
      "\t\t sentences\n",
      "\t\t Meulder\n",
      "\t\t Rajpurkar\n",
      "\t\t current techniques\n",
      "\t\t shallow concatenation\n",
      "\t\t right-to-left LMs\n",
      "\t\t Williams\n",
      "\t\t Dolan\n",
      "\t\t Vaswani\n",
      "\t\t word\n",
      "\t\t contrast\n",
      "\t\t Introduction\n",
      "\t\t Brockett\n",
      "\t\t contributions\n"
     ]
    }
   ],
   "source": [
    "def key_phrase_extraction_example(client, text):\n",
    "\n",
    "    try:\n",
    "        #documents = [\"My cat might need to see a veterinarian.\"]\n",
    "        documents = [text[:5000]]\n",
    "\n",
    "        response = client.extract_key_phrases(documents = documents)[0]\n",
    "\n",
    "        if not response.is_error:\n",
    "            print(\"\\tKey Phrases:\")\n",
    "            for phrase in response.key_phrases:\n",
    "                print(\"\\t\\t\", phrase)\n",
    "        else:\n",
    "            print(response.id, response.error)\n",
    "\n",
    "    except Exception as err:\n",
    "        print(\"Encountered exception. {}\".format(err))\n",
    "        \n",
    "key_phrase_extraction_example(client, text)"
   ]
  },
  {
   "cell_type": "code",
   "execution_count": null,
   "metadata": {},
   "outputs": [],
   "source": []
  },
  {
   "cell_type": "code",
   "execution_count": 44,
   "metadata": {
    "ExecuteTime": {
     "end_time": "2021-02-13T19:07:03.454503Z",
     "start_time": "2021-02-13T19:07:02.577231Z"
    }
   },
   "outputs": [
    {
     "name": "stderr",
     "output_type": "stream",
     "text": [
      "INFO:azure.core.pipeline.policies.http_logging_policy:Request URL: 'https://study-buddy.cognitiveservices.azure.com//text/analytics/v3.1-preview.3/entities/recognition/general?showStats=REDACTED&stringIndexType=REDACTED'\n",
      "INFO:azure.core.pipeline.policies.http_logging_policy:Request method: 'POST'\n",
      "INFO:azure.core.pipeline.policies.http_logging_policy:Request headers:\n",
      "INFO:azure.core.pipeline.policies.http_logging_policy:    'Content-Type': 'application/json'\n",
      "INFO:azure.core.pipeline.policies.http_logging_policy:    'Accept': 'application/json, text/json'\n",
      "INFO:azure.core.pipeline.policies.http_logging_policy:    'Content-Length': '5173'\n",
      "INFO:azure.core.pipeline.policies.http_logging_policy:    'x-ms-client-request-id': 'a7afef3e-6e2e-11eb-ab4a-0182ce42c58c'\n",
      "INFO:azure.core.pipeline.policies.http_logging_policy:    'User-Agent': 'azsdk-python-ai-textanalytics/5.1.0b5 Python/3.8.5 (Linux-5.4.0-65-generic-x86_64-with-glibc2.29)'\n",
      "INFO:azure.core.pipeline.policies.http_logging_policy:    'Ocp-Apim-Subscription-Key': 'REDACTED'\n",
      "INFO:azure.core.pipeline.policies.http_logging_policy:A body is sent with the request\n",
      "INFO:azure.core.pipeline.policies.http_logging_policy:Response status: 200\n",
      "INFO:azure.core.pipeline.policies.http_logging_policy:Response headers:\n",
      "INFO:azure.core.pipeline.policies.http_logging_policy:    'Transfer-Encoding': 'chunked'\n",
      "INFO:azure.core.pipeline.policies.http_logging_policy:    'Content-Type': 'application/json; charset=utf-8'\n",
      "INFO:azure.core.pipeline.policies.http_logging_policy:    'csp-billing-usage': 'REDACTED'\n",
      "INFO:azure.core.pipeline.policies.http_logging_policy:    'x-envoy-upstream-service-time': 'REDACTED'\n",
      "INFO:azure.core.pipeline.policies.http_logging_policy:    'apim-request-id': 'REDACTED'\n",
      "INFO:azure.core.pipeline.policies.http_logging_policy:    'Strict-Transport-Security': 'REDACTED'\n",
      "INFO:azure.core.pipeline.policies.http_logging_policy:    'x-content-type-options': 'REDACTED'\n",
      "INFO:azure.core.pipeline.policies.http_logging_policy:    'Date': 'Sat, 13 Feb 2021 19:07:02 GMT'\n"
     ]
    },
    {
     "name": "stdout",
     "output_type": "stream",
     "text": [
      "Named Entities:\n",
      "\n",
      "\tText: \t BERT \tCategory: \t Organization \tSubCategory: \t None \n",
      "\tConfidence Score: \t 0.62 \tLength: \t 4 \tOffset: \t 0 \n",
      "\n",
      "\tText: \t training \tCategory: \t Skill \tSubCategory: \t None \n",
      "\tConfidence Score: \t 0.8 \tLength: \t 8 \tOffset: \t 10 \n",
      "\n",
      "\tText: \t Jacob Devlin \tCategory: \t Person \tSubCategory: \t None \n",
      "\tConfidence Score: \t 0.99 \tLength: \t 12 \tOffset: \t 81 \n",
      "\n",
      "\tText: \t Ming-Wei Chang Kenton Lee Kristina Toutanova \tCategory: \t Person \tSubCategory: \t None \n",
      "\tConfidence Score: \t 0.94 \tLength: \t 44 \tOffset: \t 95 \n",
      "\n",
      "\tText: \t Google \tCategory: \t Organization \tSubCategory: \t None \n",
      "\tConfidence Score: \t 0.55 \tLength: \t 6 \tOffset: \t 140 \n",
      "\n",
      "\tText: \t jacobdevlin \tCategory: \t Person \tSubCategory: \t None \n",
      "\tConfidence Score: \t 0.63 \tLength: \t 11 \tOffset: \t 160 \n",
      "\n",
      "\tText: \t mingweichang \tCategory: \t Person \tSubCategory: \t None \n",
      "\tConfidence Score: \t 0.49 \tLength: \t 12 \tOffset: \t 172 \n",
      "\n",
      "\tText: \t 1810 \tCategory: \t DateTime \tSubCategory: \t DateRange \n",
      "\tConfidence Score: \t 0.8 \tLength: \t 4 \tOffset: \t 221 \n",
      "\n",
      "\tText: \t 24 May 2019 \tCategory: \t DateTime \tSubCategory: \t Date \n",
      "\tConfidence Score: \t 0.8 \tLength: \t 11 \tOffset: \t 242 \n",
      "\n",
      "\tText: \t language representation \tCategory: \t Skill \tSubCategory: \t None \n",
      "\tConfidence Score: \t 0.8 \tLength: \t 23 \tOffset: \t 283 \n",
      "\n",
      "\tText: \t Transformers \tCategory: \t Organization \tSubCategory: \t None \n",
      "\tConfidence Score: \t 0.43 \tLength: \t 12 \tOffset: \t 386 \n",
      "\n",
      "\tText: \t language representation \tCategory: \t Skill \tSubCategory: \t None \n",
      "\tConfidence Score: \t 0.8 \tLength: \t 23 \tOffset: \t 414 \n",
      "\n",
      "\tText: \t Peters \tCategory: \t Person \tSubCategory: \t None \n",
      "\tConfidence Score: \t 0.95 \tLength: \t 6 \tOffset: \t 446 \n",
      "\n",
      "\tText: \t Radford \tCategory: \t Person \tSubCategory: \t None \n",
      "\tConfidence Score: \t 0.92 \tLength: \t 7 \tOffset: \t 468 \n",
      "\n",
      "\tText: \t 2018 \tCategory: \t DateTime \tSubCategory: \t DateRange \n",
      "\tConfidence Score: \t 0.8 \tLength: \t 4 \tOffset: \t 484 \n",
      "\n",
      "\tText: \t deep bidirectional \tCategory: \t Skill \tSubCategory: \t None \n",
      "\tConfidence Score: \t 0.8 \tLength: \t 18 \tOffset: \t 520 \n",
      "\n",
      "\tText: \t one \tCategory: \t Quantity \tSubCategory: \t Number \n",
      "\tConfidence Score: \t 0.8 \tLength: \t 3 \tOffset: \t 712 \n",
      "\n",
      "\tText: \t architecture \tCategory: \t Skill \tSubCategory: \t None \n",
      "\tConfidence Score: \t 0.8 \tLength: \t 12 \tOffset: \t 885 \n",
      "\n",
      "\tText: \t eleven \tCategory: \t Quantity \tSubCategory: \t Number \n",
      "\tConfidence Score: \t 0.8 \tLength: \t 6 \tOffset: \t 1010 \n",
      "\n",
      "\tText: \t natural language processing \tCategory: \t Skill \tSubCategory: \t None \n",
      "\tConfidence Score: \t 0.8 \tLength: \t 27 \tOffset: \t 1017 \n",
      "\n",
      "\tText: \t 80.5% \tCategory: \t Quantity \tSubCategory: \t Percentage \n",
      "\tConfidence Score: \t 0.8 \tLength: \t 5 \tOffset: \t 1088 \n",
      "\n",
      "\tText: \t 7.7% \tCategory: \t Quantity \tSubCategory: \t Percentage \n",
      "\tConfidence Score: \t 0.8 \tLength: \t 4 \tOffset: \t 1095 \n",
      "\n",
      "\tText: \t 86.7% \tCategory: \t Quantity \tSubCategory: \t Percentage \n",
      "\tConfidence Score: \t 0.8 \tLength: \t 5 \tOffset: \t 1150 \n",
      "\n",
      "\tText: \t 4 \tCategory: \t Quantity \tSubCategory: \t Number \n",
      "\tConfidence Score: \t 0.8 \tLength: \t 1 \tOffset: \t 1157 \n",
      "\n",
      "\tText: \t 6% \tCategory: \t Quantity \tSubCategory: \t Percentage \n",
      "\tConfidence Score: \t 0.8 \tLength: \t 2 \tOffset: \t 1159 \n",
      "\n",
      "\tText: \t 1 \tCategory: \t Quantity \tSubCategory: \t Number \n",
      "\tConfidence Score: \t 0.8 \tLength: \t 1 \tOffset: \t 1194 \n",
      "\n",
      "\tText: \t 93.2 \tCategory: \t Quantity \tSubCategory: \t Number \n",
      "\tConfidence Score: \t 0.8 \tLength: \t 4 \tOffset: \t 1226 \n",
      "\n",
      "\tText: \t 1.5 \tCategory: \t Quantity \tSubCategory: \t Number \n",
      "\tConfidence Score: \t 0.8 \tLength: \t 3 \tOffset: \t 1232 \n",
      "\n",
      "\tText: \t 0 \tCategory: \t Quantity \tSubCategory: \t Number \n",
      "\tConfidence Score: \t 0.8 \tLength: \t 1 \tOffset: \t 1277 \n",
      "\n",
      "\tText: \t 83.1 \tCategory: \t Quantity \tSubCategory: \t Number \n",
      "\tConfidence Score: \t 0.8 \tLength: \t 4 \tOffset: \t 1290 \n",
      "\n",
      "\tText: \t 5.1 \tCategory: \t Quantity \tSubCategory: \t Number \n",
      "\tConfidence Score: \t 0.8 \tLength: \t 3 \tOffset: \t 1296 \n",
      "\n",
      "\tText: \t 1 \tCategory: \t Quantity \tSubCategory: \t Number \n",
      "\tConfidence Score: \t 0.8 \tLength: \t 1 \tOffset: \t 1330 \n",
      "\n",
      "\tText: \t Language model \tCategory: \t Skill \tSubCategory: \t None \n",
      "\tConfidence Score: \t 0.8 \tLength: \t 14 \tOffset: \t 1347 \n",
      "\n",
      "\tText: \t training \tCategory: \t Skill \tSubCategory: \t None \n",
      "\tConfidence Score: \t 0.8 \tLength: \t 8 \tOffset: \t 1366 \n",
      "\n",
      "\tText: \t natural language \tCategory: \t Skill \tSubCategory: \t None \n",
      "\tConfidence Score: \t 0.8 \tLength: \t 16 \tOffset: \t 1425 \n",
      "\n",
      "\tText: \t Dai \tCategory: \t Person \tSubCategory: \t None \n",
      "\tConfidence Score: \t 0.93 \tLength: \t 3 \tOffset: \t 1460 \n",
      "\n",
      "\tText: \t Le \tCategory: \t Person \tSubCategory: \t None \n",
      "\tConfidence Score: \t 0.7 \tLength: \t 2 \tOffset: \t 1468 \n",
      "\n",
      "\tText: \t Le \tCategory: \t Quantity \tSubCategory: \t Currency \n",
      "\tConfidence Score: \t 0.8 \tLength: \t 2 \tOffset: \t 1468 \n",
      "\n",
      "\tText: \t 2015 \tCategory: \t DateTime \tSubCategory: \t DateRange \n",
      "\tConfidence Score: \t 0.8 \tLength: \t 4 \tOffset: \t 1472 \n",
      "\n",
      "\tText: \t Peters \tCategory: \t Person \tSubCategory: \t None \n",
      "\tConfidence Score: \t 0.97 \tLength: \t 6 \tOffset: \t 1478 \n",
      "\n",
      "\tText: \t Radford \tCategory: \t Person \tSubCategory: \t None \n",
      "\tConfidence Score: \t 0.95 \tLength: \t 7 \tOffset: \t 1500 \n",
      "\n",
      "\tText: \t 2018 \tCategory: \t DateTime \tSubCategory: \t DateRange \n",
      "\tConfidence Score: \t 0.8 \tLength: \t 4 \tOffset: \t 1516 \n",
      "\n",
      "\tText: \t Howard \tCategory: \t Person \tSubCategory: \t None \n",
      "\tConfidence Score: \t 0.97 \tLength: \t 6 \tOffset: \t 1522 \n",
      "\n",
      "\tText: \t Ruder \tCategory: \t Person \tSubCategory: \t None \n",
      "\tConfidence Score: \t 0.98 \tLength: \t 5 \tOffset: \t 1533 \n",
      "\n",
      "\tText: \t 2018 \tCategory: \t DateTime \tSubCategory: \t DateRange \n",
      "\tConfidence Score: \t 0.8 \tLength: \t 4 \tOffset: \t 1540 \n",
      "\n",
      "\tText: \t language inference \tCategory: \t Skill \tSubCategory: \t None \n",
      "\tConfidence Score: \t 0.8 \tLength: \t 18 \tOffset: \t 1598 \n",
      "\n",
      "\tText: \t Bowman \tCategory: \t Person \tSubCategory: \t None \n",
      "\tConfidence Score: \t 0.97 \tLength: \t 6 \tOffset: \t 1618 \n",
      "\n",
      "\tText: \t 2015 \tCategory: \t DateTime \tSubCategory: \t DateRange \n",
      "\tConfidence Score: \t 0.8 \tLength: \t 4 \tOffset: \t 1633 \n",
      "\n",
      "\tText: \t Williams \tCategory: \t Person \tSubCategory: \t None \n",
      "\tConfidence Score: \t 0.95 \tLength: \t 8 \tOffset: \t 1639 \n",
      "\n",
      "\tText: \t 2018 \tCategory: \t DateTime \tSubCategory: \t DateRange \n",
      "\tConfidence Score: \t 0.8 \tLength: \t 4 \tOffset: \t 1656 \n",
      "\n",
      "\tText: \t paraphrasing \tCategory: \t Skill \tSubCategory: \t None \n",
      "\tConfidence Score: \t 0.8 \tLength: \t 12 \tOffset: \t 1666 \n",
      "\n",
      "\tText: \t Dolan \tCategory: \t Person \tSubCategory: \t None \n",
      "\tConfidence Score: \t 0.96 \tLength: \t 5 \tOffset: \t 1680 \n",
      "\n",
      "\tText: \t Brockett \tCategory: \t Person \tSubCategory: \t None \n",
      "\tConfidence Score: \t 0.94 \tLength: \t 8 \tOffset: \t 1690 \n",
      "\n",
      "\tText: \t 2005 \tCategory: \t DateTime \tSubCategory: \t DateRange \n",
      "\tConfidence Score: \t 0.8 \tLength: \t 4 \tOffset: \t 1700 \n",
      "\n",
      "\tText: \t analyzing \tCategory: \t Skill \tSubCategory: \t None \n",
      "\tConfidence Score: \t 0.8 \tLength: \t 9 \tOffset: \t 1767 \n",
      "\n",
      "\tText: \t entity recognition \tCategory: \t Skill \tSubCategory: \t None \n",
      "\tConfidence Score: \t 0.8 \tLength: \t 18 \tOffset: \t 1839 \n",
      "\n",
      "\tText: \t Tjong Kim Sang \tCategory: \t Person \tSubCategory: \t None \n",
      "\tConfidence Score: \t 0.97 \tLength: \t 14 \tOffset: \t 1959 \n",
      "\n",
      "\tText: \t Meulder \tCategory: \t Person \tSubCategory: \t None \n",
      "\tConfidence Score: \t 0.57 \tLength: \t 7 \tOffset: \t 1981 \n",
      "\n",
      "\tText: \t 2003 \tCategory: \t DateTime \tSubCategory: \t DateRange \n",
      "\tConfidence Score: \t 0.8 \tLength: \t 4 \tOffset: \t 1990 \n",
      "\n",
      "\tText: \t Rajpurkar \tCategory: \t Person \tSubCategory: \t None \n",
      "\tConfidence Score: \t 0.97 \tLength: \t 9 \tOffset: \t 1996 \n",
      "\n",
      "\tText: \t 2016 \tCategory: \t DateTime \tSubCategory: \t DateRange \n",
      "\tConfidence Score: \t 0.8 \tLength: \t 4 \tOffset: \t 2014 \n",
      "\n",
      "\tText: \t two \tCategory: \t Quantity \tSubCategory: \t Number \n",
      "\tConfidence Score: \t 0.8 \tLength: \t 3 \tOffset: \t 2032 \n",
      "\n",
      "\tText: \t strategies \tCategory: \t Skill \tSubCategory: \t None \n",
      "\tConfidence Score: \t 0.8 \tLength: \t 10 \tOffset: \t 2045 \n",
      "\n",
      "\tText: \t language representations \tCategory: \t Skill \tSubCategory: \t None \n",
      "\tConfidence Score: \t 0.8 \tLength: \t 24 \tOffset: \t 2081 \n",
      "\n",
      "\tText: \t fine-tuning \tCategory: \t Skill \tSubCategory: \t None \n",
      "\tConfidence Score: \t 0.8 \tLength: \t 11 \tOffset: \t 2145 \n",
      "\n",
      "\tText: \t Peters \tCategory: \t Person \tSubCategory: \t None \n",
      "\tConfidence Score: \t 0.67 \tLength: \t 6 \tOffset: \t 2200 \n",
      "\n",
      "\tText: \t architectures \tCategory: \t Skill \tSubCategory: \t None \n",
      "\tConfidence Score: \t 0.8 \tLength: \t 13 \tOffset: \t 2242 \n",
      "\n",
      "\tText: \t fine-tuning \tCategory: \t Skill \tSubCategory: \t None \n",
      "\tConfidence Score: \t 0.8 \tLength: \t 11 \tOffset: \t 2329 \n",
      "\n",
      "\tText: \t Generative \tCategory: \t Skill \tSubCategory: \t None \n",
      "\tConfidence Score: \t 0.8 \tLength: \t 10 \tOffset: \t 2363 \n",
      "\n",
      "\tText: \t Transformer \tCategory: \t Product \tSubCategory: \t None \n",
      "\tConfidence Score: \t 0.48 \tLength: \t 11 \tOffset: \t 2386 \n",
      "\n",
      "\tText: \t Radford \tCategory: \t Person \tSubCategory: \t None \n",
      "\tConfidence Score: \t 0.93 \tLength: \t 7 \tOffset: \t 2412 \n",
      "\n",
      "\tText: \t 2018 \tCategory: \t DateTime \tSubCategory: \t DateRange \n",
      "\tConfidence Score: \t 0.8 \tLength: \t 4 \tOffset: \t 2428 \n",
      "\n",
      "\tText: \t fine-tuning \tCategory: \t Skill \tSubCategory: \t None \n",
      "\tConfidence Score: \t 0.8 \tLength: \t 11 \tOffset: \t 2529 \n",
      "\n",
      "\tText: \t two \tCategory: \t Quantity \tSubCategory: \t Number \n",
      "\tConfidence Score: \t 0.8 \tLength: \t 3 \tOffset: \t 2572 \n",
      "\n",
      "\tText: \t objective function \tCategory: \t Skill \tSubCategory: \t None \n",
      "\tConfidence Score: \t 0.8 \tLength: \t 18 \tOffset: \t 2602 \n",
      "\n",
      "\tText: \t training \tCategory: \t Skill \tSubCategory: \t None \n",
      "\tConfidence Score: \t 0.8 \tLength: \t 8 \tOffset: \t 2632 \n",
      "\n",
      "\tText: \t language representations \tCategory: \t Skill \tSubCategory: \t None \n",
      "\tConfidence Score: \t 0.8 \tLength: \t 24 \tOffset: \t 2705 \n",
      "\n",
      "\tText: \t fine-tuning \tCategory: \t Skill \tSubCategory: \t None \n",
      "\tConfidence Score: \t 0.8 \tLength: \t 11 \tOffset: \t 2838 \n",
      "\n",
      "\tText: \t language models \tCategory: \t Skill \tSubCategory: \t None \n",
      "\tConfidence Score: \t 0.8 \tLength: \t 15 \tOffset: \t 2900 \n",
      "\n",
      "\tText: \t architectures \tCategory: \t Skill \tSubCategory: \t None \n",
      "\tConfidence Score: \t 0.8 \tLength: \t 13 \tOffset: \t 2966 \n",
      "\n",
      "\tText: \t training \tCategory: \t Skill \tSubCategory: \t None \n",
      "\tConfidence Score: \t 0.8 \tLength: \t 8 \tOffset: \t 3008 \n",
      "\n",
      "\tText: \t authors \tCategory: \t PersonType \tSubCategory: \t None \n",
      "\tConfidence Score: \t 0.92 \tLength: \t 7 \tOffset: \t 3050 \n",
      "\n",
      "\tText: \t toright architecture \tCategory: \t Skill \tSubCategory: \t None \n",
      "\tConfidence Score: \t 0.8 \tLength: \t 20 \tOffset: \t 3069 \n",
      "\n",
      "\tText: \t Vaswani \tCategory: \t Person \tSubCategory: \t None \n",
      "\tConfidence Score: \t 0.96 \tLength: \t 7 \tOffset: \t 3193 \n",
      "\n",
      "\tText: \t 2017 \tCategory: \t DateTime \tSubCategory: \t DateRange \n",
      "\tConfidence Score: \t 0.8 \tLength: \t 4 \tOffset: \t 3209 \n",
      "\n",
      "\tText: \t finetuning \tCategory: \t Skill \tSubCategory: \t None \n",
      "\tConfidence Score: \t 0.8 \tLength: \t 10 \tOffset: \t 3316 \n",
      "\n",
      "\tText: \t fine-tuning \tCategory: \t Skill \tSubCategory: \t None \n",
      "\tConfidence Score: \t 0.8 \tLength: \t 11 \tOffset: \t 3488 \n",
      "\n",
      "\tText: \t BERT \tCategory: \t Organization \tSubCategory: \t None \n",
      "\tConfidence Score: \t 0.65 \tLength: \t 4 \tOffset: \t 3593 \n",
      "\n",
      "\tText: \t previously \tCategory: \t DateTime \tSubCategory: \t None \n",
      "\tConfidence Score: \t 0.8 \tLength: \t 10 \tOffset: \t 3613 \n",
      "\n",
      "\tText: \t language model \tCategory: \t Skill \tSubCategory: \t None \n",
      "\tConfidence Score: \t 0.8 \tLength: \t 14 \tOffset: \t 3682 \n",
      "\n",
      "\tText: \t training \tCategory: \t Skill \tSubCategory: \t None \n",
      "\tConfidence Score: \t 0.8 \tLength: \t 8 \tOffset: \t 3708 \n",
      "\n",
      "\tText: \t Taylor \tCategory: \t Person \tSubCategory: \t None \n",
      "\tConfidence Score: \t 0.97 \tLength: \t 6 \tOffset: \t 3756 \n",
      "\n",
      "\tText: \t 1953 \tCategory: \t DateTime \tSubCategory: \t DateRange \n",
      "\tConfidence Score: \t 0.8 \tLength: \t 4 \tOffset: \t 3764 \n",
      "\n",
      "\tText: \t language model \tCategory: \t Skill \tSubCategory: \t None \n",
      "\tConfidence Score: \t 0.8 \tLength: \t 14 \tOffset: \t 3782 \n",
      "\n",
      "\tText: \t vocabulary \tCategory: \t Skill \tSubCategory: \t None \n",
      "\tConfidence Score: \t 0.8 \tLength: \t 10 \tOffset: \t 3892 \n",
      "\n",
      "\tText: \t language model \tCategory: \t Skill \tSubCategory: \t None \n",
      "\tConfidence Score: \t 0.8 \tLength: \t 14 \tOffset: \t 3974 \n",
      "\n",
      "\tText: \t training \tCategory: \t Skill \tSubCategory: \t None \n",
      "\tConfidence Score: \t 0.8 \tLength: \t 8 \tOffset: \t 3993 \n",
      "\n",
      "\tText: \t MLM \tCategory: \t Skill \tSubCategory: \t None \n",
      "\tConfidence Score: \t 0.8 \tLength: \t 3 \tOffset: \t 4007 \n",
      "\n",
      "\tText: \t representation \tCategory: \t Skill \tSubCategory: \t None \n",
      "\tConfidence Score: \t 0.8 \tLength: \t 14 \tOffset: \t 4033 \n",
      "\n",
      "\tText: \t Transformer \tCategory: \t Product \tSubCategory: \t None \n",
      "\tConfidence Score: \t 0.62 \tLength: \t 11 \tOffset: \t 4137 \n",
      "\n",
      "\tText: \t language model \tCategory: \t Skill \tSubCategory: \t None \n",
      "\tConfidence Score: \t 0.8 \tLength: \t 14 \tOffset: \t 4176 \n",
      "\n",
      "\tText: \t training \tCategory: \t Skill \tSubCategory: \t None \n",
      "\tConfidence Score: \t 0.8 \tLength: \t 8 \tOffset: \t 4388 \n",
      "\n",
      "\tText: \t language representations \tCategory: \t Skill \tSubCategory: \t None \n",
      "\tConfidence Score: \t 0.8 \tLength: \t 24 \tOffset: \t 4401 \n",
      "\n",
      "\tText: \t Radford \tCategory: \t Person \tSubCategory: \t None \n",
      "\tConfidence Score: \t 0.96 \tLength: \t 7 \tOffset: \t 4434 \n",
      "\n",
      "\tText: \t 2018 \tCategory: \t DateTime \tSubCategory: \t DateRange \n",
      "\tConfidence Score: \t 0.8 \tLength: \t 4 \tOffset: \t 4450 \n",
      "\n",
      "\tText: \t training \tCategory: \t Skill \tSubCategory: \t None \n",
      "\tConfidence Score: \t 0.8 \tLength: \t 8 \tOffset: \t 4507 \n",
      "\n",
      "\tText: \t BERT \tCategory: \t Organization \tSubCategory: \t None \n",
      "\tConfidence Score: \t 0.4 \tLength: \t 4 \tOffset: \t 4517 \n",
      "\n",
      "\tText: \t language models \tCategory: \t Skill \tSubCategory: \t None \n",
      "\tConfidence Score: \t 0.8 \tLength: \t 15 \tOffset: \t 4534 \n",
      "\n",
      "\tText: \t deep bidirectional \tCategory: \t Skill \tSubCategory: \t None \n",
      "\tConfidence Score: \t 0.8 \tLength: \t 18 \tOffset: \t 4571 \n",
      "\n",
      "\tText: \t Peters \tCategory: \t Person \tSubCategory: \t None \n",
      "\tConfidence Score: \t 0.95 \tLength: \t 6 \tOffset: \t 4635 \n",
      "\n",
      "\tText: \t concatenation \tCategory: \t Skill \tSubCategory: \t None \n",
      "\tConfidence Score: \t 0.8 \tLength: \t 13 \tOffset: \t 4679 \n",
      "\n",
      "\tText: \t LMs \tCategory: \t PersonType \tSubCategory: \t None \n",
      "\tConfidence Score: \t 0.76 \tLength: \t 3 \tOffset: \t 4750 \n",
      "\n",
      "\tText: \t LMs \tCategory: \t Skill \tSubCategory: \t None \n",
      "\tConfidence Score: \t 0.8 \tLength: \t 3 \tOffset: \t 4750 \n",
      "\n",
      "\tText: \t taskspecific architectures \tCategory: \t Skill \tSubCategory: \t None \n",
      "\tConfidence Score: \t 0.8 \tLength: \t 26 \tOffset: \t 4842 \n",
      "\n",
      "\tText: \t first \tCategory: \t Quantity \tSubCategory: \t Ordinal \n",
      "\tConfidence Score: \t 0.8 \tLength: \t 5 \tOffset: \t 4882 \n",
      "\n",
      "\tText: \t finetuning based representation \tCategory: \t Skill \tSubCategory: \t None \n",
      "\tConfidence Score: \t 0.8 \tLength: \t 31 \tOffset: \t 4888 \n",
      "\n",
      "\tText: \t performance \tCategory: \t Skill \tSubCategory: \t None \n",
      "\tConfidence Score: \t 0.8 \tLength: \t 11 \tOffset: \t 4957 \n",
      "\n"
     ]
    }
   ],
   "source": [
    "def entity_recognition_example(client, text):\n",
    "\n",
    "    try:\n",
    "#         documents = [\"I had a wonderful trip to Seattle last week.\"]\n",
    "        documents = [text[:5000]]\n",
    "        result = client.recognize_entities(documents = documents)[0]\n",
    "\n",
    "        print(\"Named Entities:\\n\")\n",
    "        for entity in result.entities:\n",
    "            print(\"\\tText: \\t\", entity.text, \"\\tCategory: \\t\", entity.category, \"\\tSubCategory: \\t\", entity.subcategory,\n",
    "                    \"\\n\\tConfidence Score: \\t\", round(entity.confidence_score, 2), \"\\tLength: \\t\", entity.length, \"\\tOffset: \\t\", entity.offset, \"\\n\")\n",
    "\n",
    "    except Exception as err:\n",
    "        print(\"Encountered exception. {}\".format(err))\n",
    "\n",
    "entity_recognition_example(client, text)"
   ]
  },
  {
   "cell_type": "code",
   "execution_count": null,
   "metadata": {},
   "outputs": [],
   "source": []
  },
  {
   "cell_type": "code",
   "execution_count": null,
   "metadata": {},
   "outputs": [],
   "source": []
  },
  {
   "cell_type": "code",
   "execution_count": null,
   "metadata": {},
   "outputs": [],
   "source": []
  },
  {
   "cell_type": "code",
   "execution_count": null,
   "metadata": {},
   "outputs": [],
   "source": []
  },
  {
   "cell_type": "code",
   "execution_count": null,
   "metadata": {},
   "outputs": [],
   "source": []
  },
  {
   "cell_type": "code",
   "execution_count": null,
   "metadata": {},
   "outputs": [],
   "source": []
  },
  {
   "cell_type": "code",
   "execution_count": 45,
   "metadata": {
    "ExecuteTime": {
     "end_time": "2021-02-15T23:29:20.211585Z",
     "start_time": "2021-02-15T23:29:20.200307Z"
    }
   },
   "outputs": [],
   "source": [
    "import os"
   ]
  },
  {
   "cell_type": "code",
   "execution_count": 46,
   "metadata": {
    "ExecuteTime": {
     "end_time": "2021-02-15T23:29:32.125472Z",
     "start_time": "2021-02-15T23:29:32.104606Z"
    }
   },
   "outputs": [
    {
     "data": {
      "text/plain": [
       "'/home/hs/Desktop/Projects/study-buddy'"
      ]
     },
     "execution_count": 46,
     "metadata": {},
     "output_type": "execute_result"
    }
   ],
   "source": [
    "os.getcwd()"
   ]
  },
  {
   "cell_type": "code",
   "execution_count": 47,
   "metadata": {
    "ExecuteTime": {
     "end_time": "2021-02-15T23:29:35.737928Z",
     "start_time": "2021-02-15T23:29:35.515871Z"
    }
   },
   "outputs": [
    {
     "name": "stdout",
     "output_type": "stream",
     "text": [
      "dev.ipynb  \u001b[0m\u001b[01;34minput\u001b[0m/  input.txt  LICENSE  README.md\r\n"
     ]
    }
   ],
   "source": [
    "ls"
   ]
  },
  {
   "cell_type": "code",
   "execution_count": 53,
   "metadata": {
    "ExecuteTime": {
     "end_time": "2021-02-15T23:31:23.986247Z",
     "start_time": "2021-02-15T23:31:23.972230Z"
    }
   },
   "outputs": [],
   "source": [
    "import glob"
   ]
  },
  {
   "cell_type": "code",
   "execution_count": 58,
   "metadata": {
    "ExecuteTime": {
     "end_time": "2021-02-15T23:31:52.998778Z",
     "start_time": "2021-02-15T23:31:52.988973Z"
    }
   },
   "outputs": [
    {
     "data": {
      "text/plain": [
       "'README.md'"
      ]
     },
     "execution_count": 58,
     "metadata": {},
     "output_type": "execute_result"
    }
   ],
   "source": [
    "glob.glob('*')[0]"
   ]
  },
  {
   "cell_type": "code",
   "execution_count": 61,
   "metadata": {
    "ExecuteTime": {
     "end_time": "2021-02-15T23:34:31.029907Z",
     "start_time": "2021-02-15T23:34:31.015480Z"
    }
   },
   "outputs": [
    {
     "data": {
      "text/plain": [
       "['__all__',\n",
       " '__builtins__',\n",
       " '__cached__',\n",
       " '__doc__',\n",
       " '__file__',\n",
       " '__loader__',\n",
       " '__name__',\n",
       " '__package__',\n",
       " '__spec__',\n",
       " '_glob0',\n",
       " '_glob1',\n",
       " '_glob2',\n",
       " '_iglob',\n",
       " '_ishidden',\n",
       " '_isrecursive',\n",
       " '_iterdir',\n",
       " '_rlistdir',\n",
       " 'escape',\n",
       " 'fnmatch',\n",
       " 'glob',\n",
       " 'glob0',\n",
       " 'glob1',\n",
       " 'has_magic',\n",
       " 'iglob',\n",
       " 'magic_check',\n",
       " 'magic_check_bytes',\n",
       " 'os',\n",
       " 're',\n",
       " 'sys']"
      ]
     },
     "execution_count": 61,
     "metadata": {},
     "output_type": "execute_result"
    }
   ],
   "source": [
    "dir(glob)"
   ]
  },
  {
   "cell_type": "code",
   "execution_count": 63,
   "metadata": {
    "ExecuteTime": {
     "end_time": "2021-02-15T23:39:16.839684Z",
     "start_time": "2021-02-15T23:39:16.832346Z"
    }
   },
   "outputs": [
    {
     "data": {
      "text/plain": [
       "['./input/1810.04805.pdf']"
      ]
     },
     "execution_count": 63,
     "metadata": {},
     "output_type": "execute_result"
    }
   ],
   "source": [
    "glob.glob('./input/*')"
   ]
  },
  {
   "cell_type": "code",
   "execution_count": 68,
   "metadata": {
    "ExecuteTime": {
     "end_time": "2021-02-18T20:42:47.485906Z",
     "start_time": "2021-02-18T20:42:47.482543Z"
    }
   },
   "outputs": [
    {
     "data": {
      "text/plain": [
       "-424554643251275630"
      ]
     },
     "execution_count": 68,
     "metadata": {},
     "output_type": "execute_result"
    }
   ],
   "source": [
    "hash('assds')"
   ]
  }
 ],
 "metadata": {
  "kernelspec": {
   "display_name": "projects_env",
   "language": "python",
   "name": "projects_env"
  },
  "language_info": {
   "codemirror_mode": {
    "name": "ipython",
    "version": 3
   },
   "file_extension": ".py",
   "mimetype": "text/x-python",
   "name": "python",
   "nbconvert_exporter": "python",
   "pygments_lexer": "ipython3",
   "version": "3.8.5"
  }
 },
 "nbformat": 4,
 "nbformat_minor": 4
}
